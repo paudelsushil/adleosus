{
  "cells": [
    {
      "cell_type": "markdown",
      "metadata": {
        "id": "view-in-github",
        "colab_type": "text"
      },
      "source": [
        "<a href=\"https://colab.research.google.com/github/paudelsushil/adleosus/blob/main/assignment5_sus.ipynb\" target=\"_parent\"><img src=\"https://colab.research.google.com/assets/colab-badge.svg\" alt=\"Open In Colab\"/></a>"
      ]
    },
    {
      "cell_type": "markdown",
      "metadata": {
        "id": "SmaQLda6ksLG"
      },
      "source": [
        "# Assignment 5 - Fine-tuning and Inference"
      ]
    },
    {
      "cell_type": "raw",
      "metadata": {
        "id": "eF-eyCODu2PR"
      },
      "source": [
        "---\n",
        "toc: true\n",
        "toc-depth: 6\n",
        "number-sections: true\n",
        "number-depth: 6\n",
        "execute:\n",
        "  eval: false\n",
        "---"
      ]
    },
    {
      "cell_type": "markdown",
      "metadata": {
        "id": "CdWJ1uMOkzku"
      },
      "source": [
        "## Instructions\n",
        "\n",
        "Please follow the [instructions](assignments-setup.qmd) for setting up, completing, and submitting your assignments.\n",
        "\n",
        "<font color='red'>\n",
        "\n",
        "**Important Note**:\n",
        "\n",
        "- If you are using ChatGPT or any other AI based services to correct your writings or errors in code, you are required to provide a citation link.\n",
        "- For answers to theoretical questions you should provide references for the source of your answers.\n",
        "\n",
        "</font>"
      ]
    },
    {
      "cell_type": "markdown",
      "metadata": {
        "id": "HCbyhUDqlAmU"
      },
      "source": [
        "## Theoretical questions"
      ]
    },
    {
      "cell_type": "markdown",
      "metadata": {
        "id": "YXX4kLehH6IJ"
      },
      "source": [
        "### Q1.\n",
        "\n",
        "Describe the basic structure of attention mechanisms and how--and where--they are used in CNNs designed for semantic segmentation. The more complete the answer, the better. By complete, we mean, what are some of the differences in attention mechanisms, what are some examples of their application, etc. (5 points)\n",
        "\n"
      ]
    },
    {
      "cell_type": "markdown",
      "metadata": {
        "id": "2SUTRTwblE5I"
      },
      "source": [
        "### Answer to Q1\n",
        "Basic Structure of attention mechanisms consists of three main components:\n",
        "\n",
        "**A. Generating Attention Maps:**\n",
        "\n",
        "  1. Query\n",
        "\n",
        "    A vector representing the current state of the decoder.\n",
        "    Usually the output of the previous decoder step.\n",
        "  \n",
        "  2. Keys and Values\n",
        "\n",
        "    A set of vectors representing the encoded input sequence.\n",
        "    Both keys and values have the same dimensionality.\n",
        "  \n",
        "  3. Attention Function\n",
        "Attention mechanisms are often integrated into CNNs for semantic segmentation in various ways:\n",
        "\n",
        "    a. Encoder-Decoder Architectures:\n",
        "Attention can be applied in the decoder stage to refine the segmentation results by focusing on relevant features from the encoder.\n",
        "\n",
        "    b. Spatial Attention Modules:\n",
        "These modules can be inserted between convolutional layers to enhance feature representations by highlighting important spatial locations.\n",
        "\n",
        "    c. Channel Attention Modules:\n",
        "These modules can be used to learn the importance of different feature channels and recalibrate their contribution to the final segmentation.\n",
        "\n",
        "    d. Self-Attention Mechanisms:\n",
        "These mechanisms can be used to capture long-range dependencies within the feature maps, improving the understanding of global context.\n",
        "\n",
        "**B. Weighting the Input**\n",
        "\n",
        "The attention scores obtained from the similarity calculation are used to compute a weighted sum of the values, producing the final output of the attention mechanism\n",
        "\n",
        "**C. Output Feature Maps:**\n",
        "\n",
        "The weighted feature map is then fed into subsequent layers of the CNN, carrying the enhanced contextual information.\n",
        "\n",
        "\n",
        "The application of attention mechanism in CNNs for semantic segmentation are:\n",
        "\n",
        "1. Global Context Integration:\n",
        "\n",
        "Attention mechanisms are often used to incorporate global context information into the encoder-decoder structure of CNNs, enabling the network to make more informed segmentation decisions based on a broader spatial context.\n",
        "\n",
        "2. Feature Fusion:\n",
        "\n",
        "By selectively attending to relevant features at different scales and locations, attention mechanisms facilitate effective feature fusion, allowing the network to combine multi-scale information for improved segmentation accuracy.\n",
        "\n",
        "3. Efficient Multi-Source Fusion:\n",
        "\n",
        "Co-attention mechanisms are employed with lateral skip connections to enhance the efficiency of multi-scale feature fusion in encoder-decoder architectures, enabling the network to leverage information from multiple sources effectively.\n",
        "\n",
        "4. Joint Multi-Task Learning:\n",
        "\n",
        "Advanced attention structures like gated convolution layers support joint learning of shape and semantics, enabling the network to simultaneously handle multiple tasks and capture complex relationships between different aspects of the input data.\n",
        "\n",
        "\n",
        "\n",
        "We can integrate Attention Mechanism in CNN Arc\n",
        "1. Positioning in the Network:\n",
        "\n",
        "Attention mechanisms are strategically placed in CNN architectures, often at key positions such as the top layer of the decoder before the classifier or at the end of the encoder, to leverage global context and facilitate efficient feature fusion.\n",
        "\n",
        "2. Multi-Branch Structures:\n",
        "\n",
        "Attention modules are commonly implemented as multi-branch structures, with query, key, and value branches that enable the network to focus on different dimensions of the input data and levels of abstraction, enhancing the network's representational power.\n",
        "\n",
        "\n",
        "Benefits:\n",
        "\n",
        "Integrating an attention mechanism into a CNN can provide several benefits:\n",
        "\n",
        "Improved accuracy and performance on various tasks.\n",
        "Increased interpretability of the network's predictions.\n",
        "Reduced computational cost by focusing on important regions and channels.\n",
        "\n",
        "Examples of Attention Mechanism in CNNs are as follows:\n",
        "\n",
        "- **SENet**: Uses spatial attention to improve image classification accuracy.\n",
        "- **CBAM**: Uses channel attention to improve object detection and segmentation performance.\n",
        "- **DANet**: Uses dual attention to capture both where and what information is important in medical image segmentation.\n",
        "- **DRU with Attention**: Uses attention gating to generate more coherent and realistic images.\n",
        "\n",
        "(Sam et al., 2023) and https://chat.openai.com/"
      ]
    },
    {
      "cell_type": "markdown",
      "metadata": {
        "id": "zV_Rlj0fM-l6"
      },
      "source": [
        "### Q2.\n",
        "\n",
        "An important characteristic of RNNs is their ability to handle sequential input of varying length. How do RNNs gain this ability? (5 points)"
      ]
    },
    {
      "cell_type": "markdown",
      "metadata": {
        "id": "ND3Jdir0lBxM"
      },
      "source": [
        "### Answer to Q2\n",
        "RNNs possess the capability to process sequential data inputs of varying lengths due to their recursive structure and internal memory. The key mechanisms that enable RNNs to handle sequences of different lengths include:\n",
        "1. Recursion: Sequential processing\n",
        "- At each time step, the RNN takes the current input and the previous hidden state as input.\n",
        "- The RNN then computes the output for the current time step and updates the hidden state based on the current input and the previous hidden state.\n",
        "\n",
        "2. Hidden state: The memory keeper\n",
        "\n",
        "- The hidden state is a crucial element in handling variable-length sequences. It acts as a summary of the information seen so far in the sequence.\n",
        "- As the network processes each input, the hidden state is updated based on the current input and the previous hidden state.\n",
        "- This continuous updating allows the hidden state to capture the essence of the sequence regardless of its length.\n",
        "\n",
        "\n",
        "3. Truncated Backpropagation:\n",
        "- During training, RNNs use truncated backpropagation through time (BPTT) to learn from sequences of varying lengths.\n",
        "- BPTT unrolls the RNN for a fixed number of time steps and then calculates the gradients based on the error at the final time step.\n",
        "\n",
        "(Sam et al., 2023) and https://chat.openai.com/\n",
        "\n"
      ]
    },
    {
      "cell_type": "markdown",
      "metadata": {
        "id": "QkhDBO7WlOtE"
      },
      "source": [
        "## Coding assignments\n",
        "\n",
        "The coding work here focus on continuing and complete our model pipeline, including assignments focused on:\n",
        "\n",
        "1. Adding the imagery onto which we are predicting into the pipeline;\n",
        "2. Adding code for running predictions;\n",
        "3. Fine-tuning the previously trained model\n",
        "\n",
        "The code to undertake this is mostly provided in the sections that follow under Key Code, including a U-Net model (note: you can replace that with the one you developed in your previous assignments, if you prefer).\n",
        "\n",
        "The specific assignments are below the Key Code section."
      ]
    },
    {
      "cell_type": "markdown",
      "metadata": {
        "id": "35Ks0Gqcu2PS"
      },
      "source": [
        "### Set-up"
      ]
    },
    {
      "cell_type": "code",
      "execution_count": 1,
      "metadata": {
        "id": "csfWTTctkunl",
        "colab": {
          "base_uri": "https://localhost:8080/"
        },
        "outputId": "177d93ca-a8bc-4f7c-b3a0-3383d1ccb9d2"
      },
      "outputs": [
        {
          "output_type": "stream",
          "name": "stdout",
          "text": [
            "Mounted at /content/gdrive\n"
          ]
        }
      ],
      "source": [
        "from google.colab import drive\n",
        "drive.mount(\"/content/gdrive\")"
      ]
    },
    {
      "cell_type": "code",
      "execution_count": 2,
      "metadata": {
        "id": "bbhJLDyAkjZ5"
      },
      "outputs": [],
      "source": [
        "%%capture\n",
        "!pip install rasterio"
      ]
    },
    {
      "cell_type": "code",
      "execution_count": 148,
      "metadata": {
        "id": "cRb1Rvq_lc7I"
      },
      "outputs": [],
      "source": [
        "import os\n",
        "import math\n",
        "from pathlib import Path\n",
        "from datetime import datetime, timedelta\n",
        "import tqdm\n",
        "import pandas as pd\n",
        "import numpy as np\n",
        "import cv2\n",
        "import random\n",
        "import rasterio\n",
        "\n",
        "import torch\n",
        "from torch import nn\n",
        "from torch import optim\n",
        "import torch.nn.functional as F\n",
        "from torch.autograd import Variable\n",
        "from torch.utils.data import Dataset, DataLoader\n",
        "from torch.optim.lr_scheduler import _LRScheduler\n",
        "from torch.utils.tensorboard import SummaryWriter\n",
        "from IPython.core.debugger import set_trace\n",
        "from IPython.display import Image\n",
        "\n",
        "import matplotlib.pyplot as plt"
      ]
    },
    {
      "cell_type": "markdown",
      "metadata": {
        "id": "W6aYx27Vm44Z"
      },
      "source": [
        "### Key Code"
      ]
    },
    {
      "cell_type": "markdown",
      "metadata": {
        "id": "gO0ooH42u2PU"
      },
      "source": [
        "#### Utility functions"
      ]
    },
    {
      "cell_type": "code",
      "execution_count": 5,
      "metadata": {
        "id": "1aQwho5Mm-ra"
      },
      "outputs": [],
      "source": [
        "def load_data(data_path, is_label=False, apply_normalization=False,\n",
        "              dtype=np.float32, verbose=False):\n",
        "    r\"\"\"\n",
        "    Open data using gdal, read it as an array and normalize it.\n",
        "    Arguments:\n",
        "            data_path (string) -- Full path including filename of the data\n",
        "                source we wish to load.\n",
        "            is_label (binary) -- If True then the layer is a ground truth\n",
        "                (category index) and if set to False the layer is a reflectance\n",
        "                band.\n",
        "            apply_normalization (binary) -- If true min/max normalization will b\n",
        "                e applied on each band.\n",
        "            dtype (np.dtype) -- Data type of the output image chips.\n",
        "            verbose (binary) -- if set to true, print a screen statement on the\n",
        "                loaded band.\n",
        "    Returns:\n",
        "            image -- Returns the loaded image as a 32-bit float numpy ndarray\n",
        "                with shape (height, width, num_bands).\n",
        "    \"\"\"\n",
        "\n",
        "    # Inform user of the file names being loaded from the Dataset.\n",
        "    if verbose:\n",
        "        print('loading file:{}'.format(data_path))\n",
        "\n",
        "    # open dataset using rasterio library.\n",
        "    with rasterio.open(data_path, \"r\") as src:\n",
        "\n",
        "        if is_label:\n",
        "            if src.count != 1:\n",
        "                raise ValueError(\"Expected Label to have exactly one channel.\")\n",
        "            img = src.read(1)\n",
        "\n",
        "        else:\n",
        "            if apply_normalization:\n",
        "                img = min_max_normalize_image(src.read())\n",
        "                img = img.astype(dtype)\n",
        "            else:\n",
        "                img = src.read()\n",
        "                img = img.astype(dtype)\n",
        "\n",
        "    return img\n",
        "\n",
        "#########################\n",
        "\n",
        "def get_meta_from_bounds(image, overlap=None):\n",
        "    with rasterio.open(image, \"r\") as src:\n",
        "        meta = src.meta\n",
        "\n",
        "    if overlap:\n",
        "        dst_width = src.width - 2 * overlap\n",
        "        dst_height = src.height - 2 * overlap\n",
        "        window = window(overlap, overlap, dst_width, dst_height)\n",
        "        win_transform = src.window_transform(window)\n",
        "        meta.update({\n",
        "            'width': dst_width,\n",
        "            'height': dst_height,\n",
        "            'transform': win_transform,\n",
        "            'count': 1,\n",
        "            'dtype': 'int8'\n",
        "        })\n",
        "\n",
        "    return meta\n",
        "\n",
        "#########################\n",
        "\n",
        "def load_params(params_dir, model, freeze_params=None):\n",
        "    \"\"\"Load a set of parameters into a PyTorch model.\n",
        "    Args:\n",
        "        params_dir (str): Path to the \".pth\" or \".pt\" file containing the input\n",
        "            parameters.\n",
        "        model (pytorch nn object): Initialized model.\n",
        "        freeze_params (list[int] or None, optional): List of parameter indices\n",
        "            to freeze (i.e., set to require no gradients). Default is None,\n",
        "            which means that all parameters are trainable.\n",
        "\n",
        "    Returns:\n",
        "        None\n",
        "\n",
        "    Raises:\n",
        "        FileNotFoundError: If the specified file does not exist.\n",
        "\n",
        "    Example:\n",
        "        # Load parameters from file and freeze the first layer\n",
        "        load_params(\"params.pth\", freeze_params=[0])\n",
        "    \"\"\"\n",
        "    # Load input parameters from file\n",
        "    input_params = torch.load(params_dir)\n",
        "\n",
        "    # Filter out parameters that are not in the model\n",
        "    model_dict = model.state_dict()\n",
        "    if \"module\" in list(input_params.keys())[0]:\n",
        "        input_params_filter = {k[7:]: v.cpu() for k, v in input_params.items()\n",
        "                               if k[7:] in model_dict}\n",
        "    else:\n",
        "        input_params_filter = {k: v.cpu() for k, v in input_params.items()\n",
        "                               if k in model_dict}\n",
        "\n",
        "    # Update the model parameters with the input parameters\n",
        "    model_dict.update(input_params_filter)\n",
        "    model.load_state_dict(model_dict)\n",
        "\n",
        "    # free some layers\n",
        "    if freeze_params is not None:\n",
        "        for i, p in enumerate(model.parameters()):\n",
        "            if i in freeze_params:\n",
        "                p.requires_grad = False\n",
        "\n",
        "    return model"
      ]
    },
    {
      "cell_type": "markdown",
      "metadata": {
        "id": "_HgcYTNIloOC"
      },
      "source": [
        "#### Pre-processing functions"
      ]
    },
    {
      "cell_type": "markdown",
      "metadata": {
        "id": "woNQhJitu2PU"
      },
      "source": [
        "##### Input normalization"
      ]
    },
    {
      "cell_type": "code",
      "execution_count": 7,
      "metadata": {
        "id": "SJybOajXl0dZ"
      },
      "outputs": [],
      "source": [
        "def min_max_normalize_image(image, dtype=np.float32):\n",
        "    \"\"\"\n",
        "    image_path(str) : Absolute path to the image patch.\n",
        "    dtype (numpy datatype) : data type of the normalized image default is\n",
        "    \"np.float32\".\n",
        "    \"\"\"\n",
        "\n",
        "    # Calculate the minimum and maximum values for each band\n",
        "    min_values = np.nanmin(image, axis=(1, 2))[:, np.newaxis, np.newaxis]\n",
        "    max_values = np.nanmax(image, axis=(1, 2))[:, np.newaxis, np.newaxis]\n",
        "\n",
        "    # Normalize the image data to the range [0, 1]\n",
        "    normalized_img = (image - min_values) / (max_values - min_values)\n",
        "\n",
        "    # Return the normalized image data\n",
        "    return normalized_img"
      ]
    },
    {
      "cell_type": "markdown",
      "metadata": {
        "id": "fVx9Lxvuu2PV"
      },
      "source": [
        "##### Image augmentation techniques"
      ]
    },
    {
      "cell_type": "code",
      "execution_count": 14,
      "metadata": {
        "id": "oIkeH2ful8fW"
      },
      "outputs": [],
      "source": [
        "def flip_image_and_label(image, label, flip_type):\n",
        "    \"\"\"\n",
        "    Applies horizontal or vertical flip augmentation to an image patch and label\n",
        "\n",
        "    Args:\n",
        "        image (numpy array) : The input image patch as a numpy array.\n",
        "        label (numpy array) : The corresponding label as a numpy array.\n",
        "        flip_type (string) : Based on the direction of flip. Can be either\n",
        "            'hflip' or 'vflip'.\n",
        "\n",
        "    Returns:\n",
        "        A tuple containing the flipped image patch and label as numpy arrays.\n",
        "    \"\"\"\n",
        "    if flip_type == 'hflip':\n",
        "        # Apply horizontal flip augmentation to the image patch\n",
        "        flipped_image = cv2.flip(image, 1)\n",
        "\n",
        "        # Apply horizontal flip augmentation to the label\n",
        "        flipped_label = cv2.flip(label, 1)\n",
        "\n",
        "    elif flip_type == 'vflip':\n",
        "        # Apply vertical flip augmentation to the image patch\n",
        "        flipped_image = cv2.flip(image, 0)\n",
        "\n",
        "        # Apply vertical flip augmentation to the label\n",
        "        flipped_label = cv2.flip(label, 0)\n",
        "\n",
        "    else:\n",
        "        raise ValueError(\"Flip direction must be 'horizontal' or 'vertical'.\")\n",
        "\n",
        "    # Return the flipped image patch and label as a tuple\n",
        "    return flipped_image.copy(), flipped_label.copy()\n",
        "\n",
        "\n",
        "def rotate_image_and_label(image, label, angle):\n",
        "    \"\"\"\n",
        "    Applies rotation augmentation to an image patch and label.\n",
        "\n",
        "    Args:\n",
        "        image (numpy array) : The input image patch as a numpy array.\n",
        "        label (numpy array) : The corresponding label as a numpy array.\n",
        "        angle (lost of floats) : If the list has exactly two elements they will\n",
        "            be considered the lower and upper bounds for the rotation angle\n",
        "            (in degrees) respectively. If number of elements are bigger than 2,\n",
        "            then one value is chosen randomly as the roatation angle.\n",
        "\n",
        "    Returns:\n",
        "        A tuple containing the rotated image patch and label as numpy arrays.\n",
        "    \"\"\"\n",
        "    if isinstance(angle, tuple) or isinstance(angle, list):\n",
        "        if len(angle) == 2:\n",
        "            rotation_degree = random.uniform(angle[0], angle[1])\n",
        "        elif len(angle) > 2:\n",
        "            rotation_degree = random.choice(angle)\n",
        "        else:\n",
        "            raise ValueError(\"Parameter degree needs at least two elements.\")\n",
        "    else:\n",
        "        raise ValueError(\n",
        "            \"Rotation bound param for augmentation must be a tuple or list.\"\n",
        "        )\n",
        "\n",
        "    # Define the center of the image patch\n",
        "    center = tuple(np.array(label.shape)/2.0)\n",
        "\n",
        "    # Define the rotation matrix\n",
        "    rotation_matrix = cv2.getRotationMatrix2D(center, rotation_degree, 1.0)\n",
        "\n",
        "    # Apply rotation augmentation to the image patch\n",
        "    rotated_image = cv2.warpAffine(image, rotation_matrix, image.shape[:2],\n",
        "                                   flags=cv2.INTER_LINEAR)\n",
        "\n",
        "    # Apply rotation augmentation to the label\n",
        "    rotated_label = cv2.warpAffine(label, rotation_matrix, label.shape[:2],\n",
        "                                   flags=cv2.INTER_NEAREST)\n",
        "\n",
        "    # Return the rotated image patch and label as a tuple\n",
        "    return rotated_image.copy(), np.rint(rotated_label.copy())"
      ]
    },
    {
      "cell_type": "markdown",
      "metadata": {
        "id": "-FBL7jIZu2PV"
      },
      "source": [
        "##### Get center index of each smaller chip"
      ]
    },
    {
      "cell_type": "code",
      "execution_count": 15,
      "metadata": {
        "id": "_9eOqlS75wjT"
      },
      "outputs": [],
      "source": [
        "def patch_center_index(cropping_ref, patch_size, overlap, usage,\n",
        "                       positive_class_threshold=None, verbose=True):\n",
        "    r\"\"\"\n",
        "    Generate index to divide the scene into small chips.\n",
        "    Each index marks the location of corresponding chip center.\n",
        "    Arguments:\n",
        "        cropping_ref (list) : Reference raster layers, to be used to generate\n",
        "            the index. In our case, it is study area binary mask and label mask.\n",
        "        patch_size (int) : Size of each clipped patches.\n",
        "        overlap (int) : amount of overlap between the extracted chips.\n",
        "        usage (str) : Either 'train', 'val'. Chipping strategy is different for\n",
        "            different usage.\n",
        "        positive_class_threshold (float) : A real value as a threshold for the\n",
        "            proportion of positive class to the total areal of the chip. Used to\n",
        "            decide if the chip should be considered as a positive chip in the\n",
        "            sampling process.\n",
        "    verbose (binary) : If set to True prints on screen the detailed list of\n",
        "            center coordinates of the sampled chips.\n",
        "    Returns:\n",
        "        proportional_patch_index : A list of index recording the center of\n",
        "        patches to extract from the input\n",
        "    \"\"\"\n",
        "\n",
        "    assert usage in [\"train\", \"validation\", \"inference\"]\n",
        "\n",
        "    if usage == \"inference\":\n",
        "        mask = cropping_ref\n",
        "    else:\n",
        "        mask, label = cropping_ref\n",
        "\n",
        "    half_size = patch_size // 2\n",
        "    step_size = patch_size - 2 * overlap\n",
        "\n",
        "    proportional_patch_index = []\n",
        "    non_proportional_patch_index = []\n",
        "    neg_patch_index = []\n",
        "\n",
        "    # Get the index of all the non-zero elements in the mask.\n",
        "    x = np.argwhere(mask)\n",
        "\n",
        "    # First col of x shows the row indices (height) of the mask layer\n",
        "    # (iterate over the y axis or latitude).\n",
        "    x_min = min(x[:, 0]) + half_size\n",
        "    x_max = max(x[:, 0]) - half_size\n",
        "    # Second col of x shows the column indices (width) of the mask layer\n",
        "    # (iterate over the x axis or longitude).\n",
        "    y_min = min(x[:, 1]) + half_size\n",
        "    y_max = max(x[:, 1]) - half_size\n",
        "\n",
        "    # Generate index for the center of each patch considering the proportion of\n",
        "    # each category falling into each patch.\n",
        "    for j in range(y_min, y_max + 1, step_size):\n",
        "\n",
        "        for i in range(x_min, x_max + 1, step_size):\n",
        "\n",
        "            # Split the mask and label layers into patches based on the index of\n",
        "            # the center of the patch\n",
        "            mask_ref = mask[i - half_size: i + half_size,\n",
        "                            j - half_size: j + half_size]\n",
        "            if usage != \"inference\":\n",
        "                label_ref = label[i - half_size: i + half_size,\n",
        "                                  j - half_size: j + half_size]\n",
        "\n",
        "            if (usage == \"train\") and mask_ref.all():\n",
        "\n",
        "                if label_ref.any() != 0:\n",
        "                    pond_ratio = np.sum(label_ref == 1) / label_ref.size\n",
        "                    if pond_ratio >= positive_class_threshold:\n",
        "                        proportional_patch_index.append([i, j])\n",
        "                else:\n",
        "                    neg_patch_index.append([i, j])\n",
        "\n",
        "            if (usage == \"validation\") and (label_ref.any() != 0) \\\n",
        "                and mask_ref.all():\n",
        "                non_proportional_patch_index.append([i, j])\n",
        "\n",
        "            if (usage == \"inference\") and (mask_ref.any() != 0):\n",
        "                non_proportional_patch_index.append([i, j])\n",
        "\n",
        "    if usage == \"train\":\n",
        "\n",
        "        num_negative_samples = min(\n",
        "            math.ceil(0.2 * len(proportional_patch_index)), 15\n",
        "        )\n",
        "        neg_samples = random.sample(neg_patch_index, num_negative_samples)\n",
        "\n",
        "        proportional_patch_index.extend(neg_samples)\n",
        "\n",
        "    # For test set use the indices generated from mask without\n",
        "    # considering the class proportions.\n",
        "    if usage in [\"validation\", \"inference\"]:\n",
        "        proportional_patch_index = non_proportional_patch_index\n",
        "\n",
        "    if verbose:\n",
        "        print(\"Number of patches:\", len(proportional_patch_index))\n",
        "        print(\"Patched from:\\n{}\".format(proportional_patch_index))\n",
        "\n",
        "    return proportional_patch_index"
      ]
    },
    {
      "cell_type": "markdown",
      "metadata": {
        "id": "yXnPz7npu2PV"
      },
      "source": [
        "#### Model, training, and evaluation\n",
        "\n",
        "You can add the U-Net model you designed in Assignment 3 (or 4), or use the one provided below (note, you will learn more if you use your own)."
      ]
    },
    {
      "cell_type": "markdown",
      "metadata": {
        "id": "EJ9MB_rru2PV"
      },
      "source": [
        "##### Model"
      ]
    },
    {
      "cell_type": "code",
      "execution_count": 17,
      "metadata": {
        "id": "zjb2pcAou2PW"
      },
      "outputs": [],
      "source": [
        "class ConvBlock(nn.Module):\n",
        "    r\"\"\"This module creates a user-defined number of conv+BN+ReLU layers.\n",
        "    Args:\n",
        "        in_channels (int)-- number of input features.\n",
        "        out_channels (int) -- number of output features.\n",
        "        kernel_size (int) -- Size of convolution kernel.\n",
        "        stride (int) -- decides how jumpy kernel moves along the spatial\n",
        "            dimensions.\n",
        "        padding (int) -- how much the input should be padded on the borders with\n",
        "            zero.\n",
        "        dilation (int) -- dilation ratio for enlarging the receptive field.\n",
        "        num_conv_layers (int) -- Number of conv+BN+ReLU layers in the block.\n",
        "        drop_rate (float) -- dropout rate at the end of the block.\n",
        "    \"\"\"\n",
        "\n",
        "    def __init__(self, in_channels, out_channels, kernel_size=3, stride=1,\n",
        "                 padding=1, dilation=1, num_conv_layers=2, drop_rate=0):\n",
        "        super(ConvBlock, self).__init__()\n",
        "\n",
        "        layers = [nn.Conv2d(in_channels, out_channels, kernel_size=kernel_size,\n",
        "                            stride=stride, padding=padding, dilation=dilation,\n",
        "                            bias=False),\n",
        "                  nn.BatchNorm2d(out_channels),\n",
        "                  nn.ReLU(inplace=True), ]\n",
        "\n",
        "        if num_conv_layers > 1:\n",
        "            if drop_rate > 0:\n",
        "                layers += [\n",
        "                    nn.Conv2d(out_channels, out_channels,\n",
        "                              kernel_size=kernel_size, stride=stride,\n",
        "                              padding=padding, dilation=dilation, bias=False),\n",
        "                    nn.BatchNorm2d(out_channels), nn.ReLU(inplace=True),\n",
        "                    nn.Dropout(drop_rate),\n",
        "                ] * (num_conv_layers - 1)\n",
        "            else:\n",
        "                layers += [\n",
        "                    nn.Conv2d(out_channels, out_channels,\n",
        "                              kernel_size=kernel_size, stride=stride,\n",
        "                              padding=padding, dilation=dilation, bias=False),\n",
        "                    nn.BatchNorm2d(out_channels), nn.ReLU(inplace=True),\n",
        "                ] * (num_conv_layers - 1)\n",
        "\n",
        "        self.block = nn.Sequential(*layers)\n",
        "\n",
        "    def forward(self, inputs):\n",
        "        outputs = self.block(inputs)\n",
        "        return outputs\n",
        "\n",
        "###########################################################################\n",
        "\n",
        "class UpconvBlock(nn.Module):\n",
        "    r\"\"\"\n",
        "    Decoder layer decodes the features along the expansive path.\n",
        "    Args:\n",
        "        in_channels (int) -- number of input features.\n",
        "        out_channels (int) -- number of output features.\n",
        "        upmode (str) -- Upsampling type.\n",
        "            If \"fixed\" then a linear upsampling with scale factor of two will be\n",
        "            applied using bi-linear as interpolation method. If deconv_1 is\n",
        "            chosen then a non-overlapping transposed convolution will be applied\n",
        "            to upsample the feature maps. If deconv_1 is chosen then an\n",
        "            overlapping transposed convolution will be applied to upsample the\n",
        "            feature maps.\n",
        "    \"\"\"\n",
        "\n",
        "    def __init__(self, in_channels, out_channels, upmode=\"deconv_1\"):\n",
        "        super(UpconvBlock, self).__init__()\n",
        "\n",
        "        if upmode == \"fixed\":\n",
        "            layers = [nn.Upsample(scale_factor=2, mode=\"bilinear\",\n",
        "                                  align_corners=True), ]\n",
        "            layers += [nn.BatchNorm2d(in_channels),\n",
        "                       nn.Conv2d(in_channels, out_channels, kernel_size=1,\n",
        "                                 stride=1, padding=0, bias=False), ]\n",
        "\n",
        "        elif upmode == \"deconv_1\":\n",
        "            layers = [\n",
        "                nn.ConvTranspose2d(in_channels, out_channels, kernel_size=2,\n",
        "                                   stride=2, padding=0, dilation=1),\n",
        "            ]\n",
        "\n",
        "        elif upmode == \"deconv_2\":\n",
        "            layers = [\n",
        "                nn.ConvTranspose2d(in_channels, out_channels, kernel_size=4,\n",
        "                                   stride=2, padding=1, dilation=1),\n",
        "            ]\n",
        "\n",
        "        # Dense Upscaling Convolution\n",
        "        elif upmode == \"DUC\":\n",
        "            up_factor = 2\n",
        "            upsample_dim = (up_factor ** 2) * out_channels\n",
        "            layers = [nn.Conv2d(in_channels, upsample_dim, kernel_size=3,\n",
        "                                padding=1),\n",
        "                      nn.BatchNorm2d(upsample_dim),\n",
        "                      nn.ReLU(inplace=True),\n",
        "                      nn.PixelShuffle(up_factor), ]\n",
        "\n",
        "        else:\n",
        "            raise ValueError(\"Provided upsampling mode is not recognized.\")\n",
        "\n",
        "        self.block = nn.Sequential(*layers)\n",
        "\n",
        "    def forward(self, inputs):\n",
        "        return self.block(inputs)\n",
        "\n",
        "\n",
        "###########################################################################\n",
        "\n",
        "class Unet(nn.Module):\n",
        "    def __init__(self, n_classes, in_channels, filter_config=None,\n",
        "                 dropout_rate=0):\n",
        "        super(Unet, self).__init__()\n",
        "\n",
        "        self.in_channels = in_channels\n",
        "\n",
        "        if not filter_config:\n",
        "            filter_config = (64, 128, 256, 512, 1024, 2048)\n",
        "\n",
        "        assert len(filter_config) == 6\n",
        "\n",
        "        # Contraction Path\n",
        "        self.encoder_1 = ConvBlock(self.in_channels, filter_config[0],\n",
        "                                   num_conv_layers=2,\n",
        "                                   drop_rate=dropout_rate)  # 64x256x256\n",
        "        self.encoder_2 = ConvBlock(filter_config[0], filter_config[1],\n",
        "                                   num_conv_layers=2,\n",
        "                                   drop_rate=dropout_rate)  # 128x128x128\n",
        "        self.encoder_3 = ConvBlock(filter_config[1], filter_config[2],\n",
        "                                   num_conv_layers=2,\n",
        "                                   drop_rate=dropout_rate)  # 256x64x64\n",
        "        self.encoder_4 = ConvBlock(filter_config[2], filter_config[3],\n",
        "                                   num_conv_layers=2,\n",
        "                                   drop_rate=dropout_rate)  # 512x32x32\n",
        "        self.encoder_5 = ConvBlock(filter_config[3], filter_config[4],\n",
        "                                   num_conv_layers=2,\n",
        "                                   drop_rate=dropout_rate)  # 1024x16x16\n",
        "        self.encoder_6 = ConvBlock(filter_config[4], filter_config[5],\n",
        "                                   num_conv_layers=2,\n",
        "                                   drop_rate=dropout_rate)  # 2048x8x8\n",
        "        self.pool = nn.MaxPool2d(kernel_size=2, stride=2)\n",
        "\n",
        "        # Expansion Path\n",
        "        self.decoder_1 = UpconvBlock(filter_config[5], filter_config[4],\n",
        "                                     upmode=\"deconv_2\")  # 1024x16x16\n",
        "        self.conv1 = ConvBlock(filter_config[4] * 2, filter_config[4],\n",
        "                               num_conv_layers=2, drop_rate=dropout_rate)\n",
        "\n",
        "        self.decoder_2 = UpconvBlock(filter_config[4], filter_config[3],\n",
        "                                     upmode=\"deconv_2\")  # 512x32x32\n",
        "        self.conv2 = ConvBlock(filter_config[4], filter_config[3],\n",
        "                               num_conv_layers=2, drop_rate=dropout_rate)\n",
        "\n",
        "        self.decoder_3 = UpconvBlock(filter_config[3], filter_config[2],\n",
        "                                     upmode=\"deconv_2\")  # 256x64x64\n",
        "        self.conv3 = ConvBlock(filter_config[3], filter_config[2],\n",
        "                               num_conv_layers=2, drop_rate=dropout_rate)\n",
        "\n",
        "        self.decoder_4 = UpconvBlock(filter_config[2], filter_config[1],\n",
        "                                     upmode=\"deconv_2\")  # 128x128x128\n",
        "        self.conv4 = ConvBlock(filter_config[2], filter_config[1],\n",
        "                               num_conv_layers=2, drop_rate=dropout_rate)\n",
        "\n",
        "        self.decoder_5 = UpconvBlock(filter_config[1], filter_config[0],\n",
        "                                     upmode=\"deconv_2\")  # 64x256x256\n",
        "        self.conv5 = ConvBlock(filter_config[1], filter_config[0],\n",
        "                               num_conv_layers=2, drop_rate=dropout_rate)\n",
        "\n",
        "        self.classifier = nn.Conv2d(filter_config[0], n_classes, kernel_size=1,\n",
        "                                    stride=1, padding=0)  # classNumx256x256\n",
        "\n",
        "    def forward(self, inputs):\n",
        "        # set_trace()\n",
        "        e1 = self.encoder_1(inputs)  # batch size x 64 x 256 x 256\n",
        "        p1 = self.pool(e1)  # batch size x 64 x 128 x 128\n",
        "\n",
        "        e2 = self.encoder_2(p1)  # batch size x 128 x 128 x 128\n",
        "        p2 = self.pool(e2)  # batch size x 128 x 64 x 64\n",
        "\n",
        "        e3 = self.encoder_3(p2)  # batch size x 256 x 64 x 64\n",
        "        p3 = self.pool(e3)  # batch size x 256 x 32 x 32\n",
        "\n",
        "        e4 = self.encoder_4(p3)  # batch size x 512 x 32 x 32\n",
        "        p4 = self.pool(e4)  # batch size x 1024 x 16 x 16\n",
        "\n",
        "        e5 = self.encoder_5(p4)  # batch size x 1024 x 16 x 16\n",
        "        p5 = self.pool(e5)  # batch size x 1024 x 8 x 8\n",
        "\n",
        "        e6 = self.encoder_6(p5)  # batch size x 2048 x 8 x 8\n",
        "\n",
        "        d6 = self.decoder_1(e6)  # batch size x 1024 x 16 x 16\n",
        "        skip1 = torch.cat((e5, d6), dim=1)  # batch size x 2048 x 16 x 16\n",
        "        d6_proper = self.conv1(skip1)  # batch size x 1024 x 16 x 16\n",
        "\n",
        "        d5 = self.decoder_2(d6_proper)  # batch size x 512 x 32 x 32\n",
        "        skip2 = torch.cat((e4, d5), dim=1)  # batch size x 1024 x 32 x 32\n",
        "        d5_proper = self.conv2(skip2)  # batch size x 512 x 32 x 32\n",
        "\n",
        "        d4 = self.decoder_3(d5_proper)  # batch size x 256 x 64 x 64\n",
        "        skip3 = torch.cat((e3, d4), dim=1)  # batch size x 512 x 64 x 64\n",
        "        d4_proper = self.conv3(skip3)  # batch size x 256 x 64 x 64\n",
        "\n",
        "        d3 = self.decoder_4(d4_proper)  # batch size x 128 x 128 x 128\n",
        "        skip4 = torch.cat((e2, d3), dim=1)  # batch size x 256 x 128 x 128\n",
        "        d3_proper = self.conv4(skip4)  # batch size x 128 x 128 x 128\n",
        "\n",
        "        d2 = self.decoder_5(d3_proper)  # batch size x 64 x 256 x 256\n",
        "        skip5 = torch.cat((e1, d2), dim=1)  # batch size x 128 x 256 x 256\n",
        "        d2_proper = self.conv5(skip5)  # batch size x 64 x 256 x 256\n",
        "\n",
        "        d1 = self.classifier(d2_proper)  # batch size x classNum x 256 x 256\n",
        "\n",
        "        return d1"
      ]
    },
    {
      "cell_type": "markdown",
      "metadata": {
        "id": "IMl_cclvu2PW"
      },
      "source": [
        "##### Loss functions"
      ]
    },
    {
      "cell_type": "code",
      "execution_count": 19,
      "metadata": {
        "id": "S3qrwOitu2PW"
      },
      "outputs": [],
      "source": [
        "class BinaryTverskyFocalLoss(nn.Module):\n",
        "    r\"\"\"\n",
        "    Pytorch versiono of tversky focal loss proposed in paper\n",
        "    'A novel focal Tversky loss function and improved Attention U-Net for lesion\n",
        "    segmentation' (https://arxiv.org/abs/1810.07842)\n",
        "    Arguments:\n",
        "        smooth (float): A float number to smooth loss, and avoid NaN error,\n",
        "            default: 1\n",
        "        alpha (float): Hyperparameters alpha, paired with (1 - alpha) to shift\n",
        "            emphasis to improve recall\n",
        "        gamma (float): Tversky index, default: 1.33\n",
        "    Returns:\n",
        "        Loss tensor\n",
        "    \"\"\"\n",
        "\n",
        "    def __init__(self, smooth=1, alpha=0.7, gamma=1.33):\n",
        "        super(BinaryTverskyFocalLoss, self).__init__()\n",
        "        self.smooth = smooth\n",
        "        self.alpha = alpha\n",
        "        self.beta = 1 - self.alpha\n",
        "        self.gamma = gamma\n",
        "\n",
        "    def forward(self, predict, target):\n",
        "        # shape: [N, C, *]\n",
        "        assert predict.shape[0] == target.shape[0], \\\n",
        "            \"predict & target batch size do not match\"\n",
        "\n",
        "        # no reduction, same as original paper\n",
        "        predict = predict.contiguous().view(-1)\n",
        "        target = target.contiguous().view(-1)\n",
        "\n",
        "        num = (predict * target).sum() + self.smooth\n",
        "        den = (predict * target).sum() + self.alpha * \\\n",
        "            ((1 - predict) * target).sum() + self.beta * \\\n",
        "            (predict * (1 - target)).sum() + self.smooth\n",
        "        loss = torch.pow(1 - num / den, 1 / self.gamma)\n",
        "\n",
        "        return loss\n",
        "\n",
        "\n",
        "class TverskyFocalLoss(nn.Module):\n",
        "    r\"\"\"\n",
        "    Tversky focal loss\n",
        "    Arguments:\n",
        "        weight (torch.tensor): Weight array of shape [num_classes,]\n",
        "        ignore_index (int): Class index to ignore\n",
        "        predict (torch.tensor): Predicted tensor of shape [N, C, *]\n",
        "        target (torch.tensor): Target tensor with the same shape as predict.\n",
        "        other args pass to BinaryTverskyFocalLoss\n",
        "    Returns:\n",
        "        same as BinaryTverskyFocalLoss\n",
        "    \"\"\"\n",
        "\n",
        "    def __init__(self, weight=None, ignore_index=-100, **kwargs):\n",
        "        super(TverskyFocalLoss, self).__init__()\n",
        "        self.kwargs = kwargs\n",
        "        self.weight = weight\n",
        "        self.ignore_index = ignore_index\n",
        "\n",
        "    def forward(self, predict, target):\n",
        "        nclass = predict.shape[1]\n",
        "        if predict.shape == target.shape:\n",
        "            pass\n",
        "        elif len(predict.shape) == 4:\n",
        "            target = F.one_hot(target, num_classes=nclass).permute(0, 3, 1, 2)\\\n",
        "                .contiguous()\n",
        "        else:\n",
        "            assert 'predict shape not applicable'\n",
        "\n",
        "        tversky = BinaryTverskyFocalLoss(**self.kwargs)\n",
        "        total_loss = 0\n",
        "        weight = torch.Tensor([1. / nclass] * nclass).cuda() \\\n",
        "            if self.weight is None else self.weight\n",
        "        predict = F.softmax(predict, dim=1)\n",
        "\n",
        "        for i in range(nclass):\n",
        "            if i != self.ignore_index:\n",
        "                tversky_loss = tversky(predict[:, i], target[:, i])\n",
        "                assert weight.shape[0] == nclass, \\\n",
        "                    'Expect weight shape [{}], get[{}]'\\\n",
        "                    .format(nclass, weight.shape[0])\n",
        "                tversky_loss *= weight[i]\n",
        "                total_loss += tversky_loss\n",
        "\n",
        "        return total_loss\n",
        "\n",
        "\n",
        "class BalancedTverskyFocalLoss(nn.Module):\n",
        "    r\"\"\"\n",
        "    Tversky focal loss weighted by inverse of label frequency\n",
        "    Arguments:\n",
        "        ignore_index (int): Class index to ignore\n",
        "        predict (torch.tensor): Predicted tensor of shape [N, C, *]\n",
        "        target (torch.tensor): Target tensor either in shape [N,*] or of same\n",
        "            shape with predict\n",
        "        other args pass to BinaryTverskyFocalLoss\n",
        "    Returns:\n",
        "        same as TverskyFocalLoss\n",
        "    \"\"\"\n",
        "\n",
        "    def __init__(self, ignore_index=-100, **kwargs):\n",
        "        super(BalancedTverskyFocalLoss, self).__init__()\n",
        "        self.kwargs = kwargs\n",
        "        self.ignore_index = ignore_index\n",
        "\n",
        "    def forward(self, predict, target):\n",
        "        # get class weights\n",
        "        unique, unique_counts = torch.unique(target, return_counts=True)\n",
        "        # calculate weight for only valid indices\n",
        "        unique_counts = unique_counts[unique != self.ignore_index]\n",
        "        unique = unique[unique != self.ignore_index]\n",
        "        ratio = unique_counts.float() / torch.numel(target)\n",
        "        weight = (1. / ratio) / torch.sum(1. / ratio)\n",
        "\n",
        "        lossWeight = torch.ones(predict.shape[1]).cuda() * 0.00001\n",
        "        for i in range(len(unique)):\n",
        "            lossWeight[unique[i]] = weight[i]\n",
        "\n",
        "        # loss\n",
        "        loss = TverskyFocalLoss(weight=lossWeight,\n",
        "                                ignore_index=self.ignore_index, **self.kwargs)\n",
        "\n",
        "        return loss(predict, target)\n",
        "\n",
        "\n",
        "class TverskyFocalCELoss(nn.Module):\n",
        "    \"\"\"\n",
        "    Combination of tversky focal loss and cross entropy loss though summation\n",
        "    Arguments:\n",
        "        loss_weight (tensor): a manual rescaling weight given to each class. If\n",
        "            given, has to be a Tensor of size C\n",
        "        tversky_weight (float): Weight on tversky focal loss for the summation,\n",
        "             while weight on cross entropy loss is (1 - tversky_weight)\n",
        "        tversky_smooth (float): A float number to smooth tversky focal loss,\n",
        "            and avoid NaN error, default: 1\n",
        "        tversky_alpha (float):\n",
        "        tversky_gamma (float):\n",
        "        ignore_index (int): Class index to ignore\n",
        "    Returns:\n",
        "        Loss tensor\n",
        "    \"\"\"\n",
        "\n",
        "    def __init__(self, loss_weight=None, tversky_weight=0.5, tversky_smooth=1,\n",
        "                 tversky_alpha=0.7, tversky_gamma=0.9, ignore_index=-100):\n",
        "        super(TverskyFocalCELoss, self).__init__()\n",
        "        self.loss_weight = loss_weight\n",
        "        self.tversky_weight = tversky_weight\n",
        "        self.tversky_smooth = tversky_smooth\n",
        "        self.tversky_alpha = tversky_alpha\n",
        "        self.tversky_gamma = tversky_gamma\n",
        "        self.ignore_index = ignore_index\n",
        "\n",
        "    def forward(self, predict, target):\n",
        "        assert predict.shape[0] == target.shape[0], \\\n",
        "            \"predict & target batch size do not match\"\n",
        "\n",
        "        tversky = TverskyFocalLoss(weight=self.loss_weight,\n",
        "                                   ignore_index=self.ignore_index,\n",
        "                                   smooth=self.tversky_smooth,\n",
        "                                   alpha=self.tversky_alpha,\n",
        "                                   gamma=self.tversky_gamma)\n",
        "        ce = nn.CrossEntropyLoss(weight=self.loss_weight,\n",
        "                                 ignore_index=self.ignore_index)\n",
        "        loss = self.tversky_weight * tversky(predict, target) +\\\n",
        "            (1 - self.tversky_weight) * ce(predict, target)\n",
        "\n",
        "        return loss\n",
        "\n",
        "\n",
        "class BalancedTverskyFocalCELoss(nn.Module):\n",
        "    r\"\"\"\n",
        "    Combination of tversky focal loss and cross entropy loss weighted by inverse of label frequency\n",
        "    Arguments:\n",
        "        ignore_index (int): Class index to ignore\n",
        "        predict (torch.tensor): Predicted tensor of shape [N, C, *]\n",
        "        target (torch.tensor): Target tensor either in shape [N,*] or of same shape with predict\n",
        "        other args pass to DiceCELoss, excluding loss_weight\n",
        "    Returns:\n",
        "        Same as TverskyFocalCELoss\n",
        "    \"\"\"\n",
        "\n",
        "    def __init__(self, ignore_index=-100, **kwargs):\n",
        "        super(BalancedTverskyFocalCELoss, self).__init__()\n",
        "        self.ignore_index = ignore_index\n",
        "        self.kwargs = kwargs\n",
        "\n",
        "    def forward(self, predict, target):\n",
        "        # get class weights\n",
        "        unique, unique_counts = torch.unique(target, return_counts=True)\n",
        "        # calculate weight for only valid indices\n",
        "        unique_counts = unique_counts[unique != self.ignore_index]\n",
        "        unique = unique[unique != self.ignore_index]\n",
        "        ratio = unique_counts.float() / torch.numel(target)\n",
        "        weight = (1. / ratio) / torch.sum(1. / ratio)\n",
        "\n",
        "        lossWeight = torch.ones(predict.shape[1]).cuda() * 0.00001\n",
        "        for i in range(len(unique)):\n",
        "            lossWeight[unique[i]] = weight[i]\n",
        "\n",
        "        loss = TverskyFocalCELoss(loss_weight=lossWeight, **self.kwargs)\n",
        "\n",
        "        return loss(predict, target)"
      ]
    },
    {
      "cell_type": "markdown",
      "metadata": {
        "id": "pwf8TVKwu2PX"
      },
      "source": [
        "##### Model fitting (training + validation)\n",
        "\n",
        "Functions to train the model using the training set, and to do validation on the validation dataset.\n"
      ]
    },
    {
      "cell_type": "code",
      "execution_count": 21,
      "metadata": {
        "id": "p_ePuRk4u2PX"
      },
      "outputs": [],
      "source": [
        "def train(trainData, model, optimizer, criterion, device, train_loss=[]):\n",
        "    \"\"\"\n",
        "        Train the model using provided training dataset.\n",
        "        Params:\n",
        "\n",
        "                custom dataset (AquacultureData).\n",
        "            model -- Choice of segmentation model.\n",
        "            optimizer -- Chosen optimization algorithm to update model\n",
        "                parameters.\n",
        "            criterion -- Chosen function to calculate loss over training\n",
        "                samples.\n",
        "            gpu (bool, optional) -- Decide whether to use GPU, default is True.\n",
        "            train_loss (empty list, optional) -- ???????????????????????????\n",
        "    \"\"\"\n",
        "\n",
        "    model.train()\n",
        "\n",
        "    # Mini batch iteration\n",
        "    train_epoch_loss = 0\n",
        "    train_batches = len(trainData)\n",
        "\n",
        "    for img_chips, labels in trainData:\n",
        "\n",
        "        img = img_chips.to(device)\n",
        "        label = labels.to(device)\n",
        "\n",
        "        optimizer.zero_grad()\n",
        "\n",
        "        pred = model(img)\n",
        "\n",
        "        loss = eval(criterion)(pred, label)\n",
        "        train_epoch_loss += loss.item()\n",
        "\n",
        "        loss.backward()\n",
        "        optimizer.step()\n",
        "\n",
        "    train_loss.append(train_epoch_loss / train_batches)\n",
        "    print('Training loss: {:.4f}'.format(train_epoch_loss / train_batches))\n",
        "\n",
        "##########################################################\n",
        "\n",
        "def validate(valData, model, criterion, device, val_loss=[]):\n",
        "    \"\"\"\n",
        "        Evaluate the model on separate Landsat scenes.\n",
        "        Params:\n",
        "            valData (DataLoader object) -- Batches of image chips from PyTorch\n",
        "                custom dataset(AquacultureData)\n",
        "            model -- Choice of segmentation Model.\n",
        "            criterion -- Chosen function to calculate loss over validation\n",
        "                samples.\n",
        "            buffer: Buffer added to the targeted grid when creating dataset.\n",
        "                This allows loss to calculate at non-buffered region.\n",
        "            gpu (binary,optional): Decide whether to use GPU, default is True\n",
        "            valLoss (empty list): To record average loss for each epoch\n",
        "    \"\"\"\n",
        "\n",
        "    model.eval()\n",
        "\n",
        "    # mini batch iteration\n",
        "    eval_epoch_loss = 0\n",
        "\n",
        "    for img_chips, labels in valData:\n",
        "\n",
        "        img = Variable(img_chips, requires_grad=False)\n",
        "        label = Variable(labels, requires_grad=False)\n",
        "\n",
        "        img = img_chips.to(device)\n",
        "        label = labels.to(device)\n",
        "\n",
        "        pred = model(img)\n",
        "\n",
        "        loss = eval(criterion)(pred, label)\n",
        "        eval_epoch_loss += loss.item()\n",
        "\n",
        "    print('validation loss: {}'.format(eval_epoch_loss / len(valData)))\n",
        "\n",
        "    if val_loss != None:\n",
        "        val_loss.append(float(eval_epoch_loss / len(valData)))\n",
        "\n",
        "##########################################################\n",
        "\n",
        "def epochIterater(trainData, valData, model, criterion, WorkingFolder,\n",
        "                  initial_lr, num_epochs):\n",
        "    r\"\"\"\n",
        "    Epoch iteration for train and evaluation.\n",
        "\n",
        "    Arguments:\n",
        "    trainData (dataloader object): Batch grouped data to train the model.\n",
        "    evalData (dataloader object): Batch grouped data to evaluate the model.\n",
        "    model (pytorch.nn.module object): initialized model.\n",
        "    initial_lr(float): The initial learning rate.\n",
        "    num_epochs (int): User-defined number of epochs to run the model.\n",
        "\n",
        "    \"\"\"\n",
        "\n",
        "    train_loss = []\n",
        "    val_loss = []\n",
        "\n",
        "    device = torch.device(\"cuda:0\" if torch.cuda.is_available() else \"cpu\")\n",
        "    if device.type == \"cuda\":\n",
        "        print('----------GPU available----------')\n",
        "        model = model.to(device)\n",
        "    else:\n",
        "        print('----------No GPU available, using CPU instead----------')\n",
        "        model = model\n",
        "\n",
        "    writer = SummaryWriter(WorkingFolder)\n",
        "    optimizer = optim.Adam(model.parameters(),\n",
        "                           lr=initial_lr,\n",
        "                           betas=(0.9, 0.999),\n",
        "                           eps=1e-08,\n",
        "                           weight_decay=5e-4,\n",
        "                           amsgrad=False)\n",
        "\n",
        "    scheduler = optim.lr_scheduler.StepLR(optimizer,\n",
        "                                          step_size=3,\n",
        "                                          gamma=0.90)\n",
        "\n",
        "    for t in range(num_epochs):\n",
        "        print(\"Epoch [{}/{}]\".format(t + 1, num_epochs))\n",
        "        start_epoch = datetime.now()\n",
        "\n",
        "        train(trainData, model, optimizer, criterion, device,\n",
        "              train_loss=train_loss)\n",
        "        validate(valData, model, criterion, device, val_loss=val_loss)\n",
        "\n",
        "        scheduler.step()\n",
        "        print(\"LR: {}\".format(scheduler.get_last_lr()))\n",
        "\n",
        "        writer.add_scalars(\"Loss\",\n",
        "                           {\"train loss\": train_loss[t],\n",
        "                            \"validation loss\": val_loss[t]},\n",
        "                           t + 1)\n",
        "\n",
        "    writer.close()\n",
        "\n",
        "    duration_in_sec = (datetime.now() - start_epoch).seconds\n",
        "    duration_format = str(timedelta(seconds=duration_in_sec))\n",
        "    print(\"--------------- Training finished in {} ---------------\"\\\n",
        "          .format(duration_format))"
      ]
    },
    {
      "cell_type": "markdown",
      "metadata": {
        "id": "ReNQoRIwu2PX"
      },
      "source": [
        "##### Evaluation and accuracy metrics"
      ]
    },
    {
      "cell_type": "code",
      "execution_count": 22,
      "metadata": {
        "id": "NidHe0KUu2PX"
      },
      "outputs": [],
      "source": [
        "class Evaluator(object):\n",
        "    def __init__(self, num_class):\n",
        "        self.num_class = num_class\n",
        "        self.confusion_matrix = np.zeros((self.num_class,)*2)\n",
        "\n",
        "    def Pixel_Accuracy(self):\n",
        "        Acc = np.diag(self.confusion_matrix).sum() / self.confusion_matrix.sum()\n",
        "        return Acc\n",
        "\n",
        "    def Pixel_Accuracy_Class(self):\n",
        "        Acc = np.diag(self.confusion_matrix) / self.confusion_matrix.sum(axis=1)\n",
        "        Acc = np.nanmean(Acc)\n",
        "        return Acc\n",
        "\n",
        "    def Mean_Intersection_over_Union(self):\n",
        "        MIoU = np.diag(self.confusion_matrix) / (\n",
        "                    np.sum(self.confusion_matrix, axis=1) +\n",
        "                    np.sum(self.confusion_matrix, axis=0) -\n",
        "                    np.diag(self.confusion_matrix))\n",
        "        MIoU = np.nanmean(MIoU)\n",
        "        return MIoU\n",
        "\n",
        "    def Frequency_Weighted_Intersection_over_Union(self):\n",
        "        freq = np.sum(self.confusion_matrix, axis=1) /\\\n",
        "            np.sum(self.confusion_matrix)\n",
        "        iu = np.diag(self.confusion_matrix) / (\n",
        "                    np.sum(self.confusion_matrix, axis=1) +\n",
        "                    np.sum(self.confusion_matrix, axis=0) -\n",
        "                    np.diag(self.confusion_matrix)\n",
        "                )\n",
        "\n",
        "        FWIoU = (freq[freq > 0] * iu[freq > 0]).sum()\n",
        "        return FWIoU\n",
        "\n",
        "    def _generate_matrix(self, gt_image, pre_image):\n",
        "        mask = (gt_image >= 0) & (gt_image < self.num_class)\n",
        "        label = self.num_class * gt_image[mask].astype('int') + pre_image[mask]\n",
        "        count = np.bincount(label, minlength=self.num_class**2)\n",
        "        confusion_matrix = count.reshape(self.num_class, self.num_class)\n",
        "        return confusion_matrix\n",
        "\n",
        "    def add_batch(self, gt_image, pre_image):\n",
        "        assert gt_image.shape == pre_image.shape\n",
        "        self.confusion_matrix += self._generate_matrix(gt_image, pre_image)\n",
        "\n",
        "    def reset(self):\n",
        "        self.confusion_matrix = np.zeros((self.num_class,) * 2)\n",
        "\n",
        "#########################\n",
        "\n",
        "def do_accuracy_evaluation(model, dataloader, num_classes):\n",
        "    evaluator = Evaluator(num_classes)\n",
        "\n",
        "    model.eval()\n",
        "    device = torch.device(\"cuda:0\" if torch.cuda.is_available() else \"cpu\")\n",
        "    with torch.no_grad():\n",
        "        for data in dataloader:\n",
        "            images, labels = data\n",
        "            images = images.to(device)\n",
        "            labels = labels.to(device)\n",
        "\n",
        "            outputs = model(images)\n",
        "            _, preds = torch.max(outputs.data, 1)\n",
        "\n",
        "            # add batch to evaluator\n",
        "            evaluator.add_batch(labels.cpu().numpy(), preds.cpu().numpy())\n",
        "\n",
        "    # calculate evaluation metrics\n",
        "    pixel_accuracy = evaluator.Pixel_Accuracy()\n",
        "    mean_accuracy = evaluator.Pixel_Accuracy_Class()\n",
        "    mean_IoU = evaluator.Mean_Intersection_over_Union()\n",
        "    frequency_weighted_IoU = evaluator\\\n",
        "        .Frequency_Weighted_Intersection_over_Union()\n",
        "\n",
        "    return pixel_accuracy, mean_accuracy, mean_IoU, frequency_weighted_IoU"
      ]
    },
    {
      "cell_type": "markdown",
      "metadata": {
        "id": "GtyPvxzWPVrc"
      },
      "source": [
        "### Coding Assignment 1\n",
        "\n",
        "This first task is to complete the pipeline you were developing from [Assignment 3](assignment3.ipynb). To do this, you need to modify the custom dataset (e.g. `ActiveLoadingDataset`) to read and pre-process the prediction dataset to get fed into the model.\n",
        "\n",
        "The process is very similar to the custom dataset you have used in [Assignment 3](assignment3.ipynb). The prediction scenes are organized in a \"csv\" file. Pixel values are atmospherically corrected to ground reflectance (Values are between 0 and 1) if you want you can standardize it or leave it as is.\n",
        "\n",
        "The detailed instructions to complete both this task are provided in the template, which you will modify to complete this assignment.\n",
        "\n",
        "After completing the modification of the `AquaCultureData` class, run through the code below it, which has the complete pipeline for training, validating, and testing model performance. Please find the dataset needed for the assignment in [here](https://drive.google.com/drive/folders/1FjHF1ompyGhR3KEVdkn62SNEdwln6CJr?usp=sharing).\n",
        "\n",
        "\n",
        "\n",
        "(10 points)."
      ]
    },
    {
      "cell_type": "code",
      "execution_count": 25,
      "metadata": {
        "id": "GmGTKqE1mFt7"
      },
      "outputs": [],
      "source": [
        "class AquacultureData(Dataset):\n",
        "    def __init__(self, src_dir, usage, dataset_name=None,\n",
        "                 apply_normalization=False, transform=None, csv_name=None,\n",
        "                 patch_size=None, overlap=None, catalog_index=None):\n",
        "        r\"\"\"\n",
        "        src_dir (str or path): Root of resource directory.\n",
        "        dataset_name (str): Name of the training/validation dataset containing\n",
        "                              structured folders for image, label\n",
        "        usage (str): Either 'train' or 'validation'.\n",
        "        transform (list): Each element is string name of the transformation to\n",
        "            be used.\n",
        "        \"\"\"\n",
        "        self.src_dir = src_dir\n",
        "        self.dataset_name = dataset_name\n",
        "        self.csv_name = csv_name\n",
        "        self.apply_normalization = apply_normalization\n",
        "        self.transform = transform\n",
        "        self.patch_size = patch_size\n",
        "        self.overlap = overlap\n",
        "\n",
        "        self.usage = usage\n",
        "        assert self.usage in [\"train\", \"validation\", \"inference\"], \\\n",
        "            \"Usage is not recognized.\"\n",
        "\n",
        "        if self.usage in [\"train\", \"validation\"]:\n",
        "            assert self.dataset_name is not None\n",
        "            img_dir = Path(src_dir) / self.dataset_name / self.usage / \"bands\"\n",
        "            img_fnames = [Path(dirpath) / f\n",
        "                          for (dirpath, dirnames, filenames) in os.walk(img_dir)\n",
        "                          for f in filenames if f.endswith(\".tif\")]\n",
        "            img_fnames.sort()\n",
        "\n",
        "            lbl_dir = Path(src_dir) / self.dataset_name / self.usage / \"labels\"\n",
        "            lbl_fnames = [Path(dirpath) / f\n",
        "                          for (dirpath, dirnames, filenames) in os.walk(lbl_dir)\n",
        "                          for f in filenames if f.endswith(\".tif\")]\n",
        "            lbl_fnames.sort()\n",
        "\n",
        "            self.img_chips = []\n",
        "            self.lbl_chips = []\n",
        "\n",
        "            for img_path, lbl_path in tqdm.tqdm(zip(img_fnames, lbl_fnames),\n",
        "                                                total=len(img_fnames)):\n",
        "                img_chip = load_data(\n",
        "                    img_path, is_label=False,\n",
        "                    apply_normalization=self.apply_normalization\n",
        "                )\n",
        "                img_chip = img_chip.transpose((1, 2, 0))\n",
        "\n",
        "                lbl_chip = load_data(lbl_path, is_label=True)\n",
        "\n",
        "                self.img_chips.append(img_chip)\n",
        "                self.lbl_chips.append(lbl_chip)\n",
        "\n",
        "            print('--------------{} patches cropped--------------'\\\n",
        "                  .format(len(self.img_chips)))\n",
        "\n",
        "        # This part handles prediction dataset\n",
        "        else:\n",
        "            assert self.csv_name is not None\n",
        "\n",
        "            ##### Add your code to read the \"csv\" file. (Expected 1 line)\n",
        "            catalog = pd.read_csv(os.path.join(self.src_dir, self.csv_name))\n",
        "\n",
        "            ##### use \"iloc\" and \"catalog_index\" to grab one line of catalog.\n",
        "            ##### (Expected 1 line)\n",
        "            self.catalog = catalog.iloc[catalog_index]\n",
        "\n",
        "            self.tile = (self.catalog[\"wrs_path\"], self.catalog[\"wrs_row\"])\n",
        "\n",
        "            img_path_ls = [self.catalog[\"img_dir\"]]\n",
        "            mask_path_ls = [self.catalog[\"mask_dir\"]]\n",
        "\n",
        "            self.meta = get_meta_from_bounds(Path(src_dir) / img_path_ls[0])\n",
        "\n",
        "            half_size = self.patch_size // 2\n",
        "\n",
        "            self.img_chips = []\n",
        "            self.coor = []\n",
        "\n",
        "            for img_path, mask_path in zip(img_path_ls, mask_path_ls):\n",
        "\n",
        "                ###### Add your code to load the image and assign it to a\n",
        "                ###### variable called \"img\".\n",
        "                ###### Use the \"load_data\" function, provided in the utility\n",
        "                ###### function. (Expected 1 line)\n",
        "                img = load_data(os.path.join(self.src_dir, img_path),\n",
        "                                is_label = False,\n",
        "                                apply_normalization = self.apply_normalization)\n",
        "\n",
        "                img = np.transpose(img, (1, 2, 0))\n",
        "\n",
        "                ##### Load your mask again using \"load_data\" function.\n",
        "                ##### (Expected 1 line)\n",
        "                mask = load_data(os.path.join(self.src_dir, mask_path),\n",
        "                                 is_label=True)\n",
        "\n",
        "                crop_ref = mask\n",
        "\n",
        "                index = patch_center_index(crop_ref, self.patch_size,\n",
        "                                           self.overlap, self.usage)\n",
        "\n",
        "                for i in range(len(index)):\n",
        "                    x = index[i][0]\n",
        "                    y = index[i][1]\n",
        "\n",
        "                    self.img_chips.append(img[x - half_size: x + half_size,\n",
        "                                              y - half_size: y + half_size, :])\n",
        "                    self.coor.append([x, y])\n",
        "\n",
        "\n",
        "\n",
        "            print('--------------{} patches cropped--------------'\\\n",
        "                  .format(len(self.img_chips)))\n",
        "\n",
        "\n",
        "    def __getitem__(self, index):\n",
        "\n",
        "        if self.usage in [\"train\", \"validation\"]:\n",
        "            image_chip = self.img_chips[index]\n",
        "            label_chip = self.lbl_chips[index]\n",
        "\n",
        "            if self.usage == \"train\" and self.transform:\n",
        "                trans_flip_ls = [m for m in self.transform if \"flip\" in m]\n",
        "                if random.randint(0, 1) and len(trans_flip_ls) > 1:\n",
        "                    trans_flip = random.sample(trans_flip_ls, 1)[0]\n",
        "                    image_chip, label_chip = flip_image_and_label(\n",
        "                        image_chip, label_chip, trans_flip\n",
        "                    )\n",
        "\n",
        "                if random.randint(0, 1) and \"rotate\" in self.transform:\n",
        "                    img_chip, lbl_chip = rotate_image_and_label(\n",
        "                        image_chip, label_chip, angle=[0,90]\n",
        "                    )\n",
        "\n",
        "            # Convert numpy arrays to torch tensors.\n",
        "            # Image chips should be: CHW if not transpose to correct order of\n",
        "            # dimensions.\n",
        "            image_tensor = torch.from_numpy(image_chip.transpose((2, 0, 1)))\\\n",
        "                .float()\n",
        "            label_tensor = torch.from_numpy(np.ascontiguousarray(label_chip))\\\n",
        "                .long()\n",
        "\n",
        "            return image_tensor, label_tensor\n",
        "        else:\n",
        "            coor = self.coor[index]\n",
        "            img_chip = self.img_chips[index]\n",
        "            image_tensor = torch.from_numpy(img_chip.transpose((2, 0, 1)))\\\n",
        "                .float()\n",
        "\n",
        "            return image_tensor, coor\n",
        "\n",
        "\n",
        "    def __len__(self):\n",
        "        return len(self.img_chips)"
      ]
    },
    {
      "cell_type": "markdown",
      "metadata": {
        "id": "e_-qmChNu2PX"
      },
      "source": [
        "#### Running through the pipeline"
      ]
    },
    {
      "cell_type": "markdown",
      "metadata": {
        "id": "2hblC886h28B"
      },
      "source": [
        "##### Parameters"
      ]
    },
    {
      "cell_type": "code",
      "execution_count": 28,
      "metadata": {
        "id": "6Jh9MAOIh28B"
      },
      "outputs": [],
      "source": [
        "src_dir = \"/content/gdrive/MyDrive/adleo/assignment5/A5_resources\" # change as needed\n",
        "dataset_name = \"Global\"\n",
        "transform = [\"hflip\", \"vflip\", \"rotate\"]\n",
        "\n",
        "n_classes = 2\n",
        "in_channels = 6\n",
        "filter_config = (32, 64, 128, 256, 512, 1024)\n",
        "dropout_rate = 0.1\n",
        "\n",
        "criterion = \"BalancedTverskyFocalCELoss()\"\n",
        "WorkingFolder = \"/content/gdrive/MyDrive/adleo/assignment5\" # change as needed\n",
        "initial_lr = 0.15\n",
        "epochs = 10"
      ]
    },
    {
      "cell_type": "markdown",
      "metadata": {
        "id": "tjRfyQKuu2PY"
      },
      "source": [
        "##### Training\n",
        "\n",
        "Create a `train_dataset` object using the `AquacultureData` class."
      ]
    },
    {
      "cell_type": "code",
      "execution_count": 29,
      "metadata": {
        "id": "JRmg0CVHu2PY",
        "colab": {
          "base_uri": "https://localhost:8080/"
        },
        "outputId": "4aa012b2-f465-41c9-b9ed-c8960ded4ad7"
      },
      "outputs": [
        {
          "output_type": "stream",
          "name": "stderr",
          "text": [
            "100%|██████████| 1188/1188 [02:56<00:00,  6.75it/s]"
          ]
        },
        {
          "output_type": "stream",
          "name": "stdout",
          "text": [
            "--------------1188 patches cropped--------------\n"
          ]
        },
        {
          "output_type": "stream",
          "name": "stderr",
          "text": [
            "\n"
          ]
        }
      ],
      "source": [
        "train_dataset = AquacultureData(src_dir,\n",
        "                                usage = \"train\",\n",
        "                                dataset_name = dataset_name,\n",
        "                                apply_normalization = False,\n",
        "                                transform = transform)"
      ]
    },
    {
      "cell_type": "markdown",
      "metadata": {
        "id": "fYj8wvsnu2Pc"
      },
      "source": [
        "Create a `PyTorch` data loader called `train_loader` that loads data from the `train_dataset`, splits it into batches, convert is to tensor and moves the data to GPU if available."
      ]
    },
    {
      "cell_type": "code",
      "execution_count": 30,
      "metadata": {
        "id": "R8hgJpXyu2Pc"
      },
      "outputs": [],
      "source": [
        "train_loader = DataLoader(train_dataset,\n",
        "                          batch_size = 16,\n",
        "                          shuffle = True)"
      ]
    },
    {
      "cell_type": "markdown",
      "metadata": {
        "id": "ugOQSrJKu2Pc"
      },
      "source": [
        "##### Validation\n",
        "\n",
        "Create a `validation_dataset` object using the `AquacultureData` class."
      ]
    },
    {
      "cell_type": "code",
      "execution_count": 32,
      "metadata": {
        "id": "rmGHIKlgu2Pc",
        "colab": {
          "base_uri": "https://localhost:8080/"
        },
        "outputId": "5fab6c66-7c31-4521-9034-dc15577922b6"
      },
      "outputs": [
        {
          "output_type": "stream",
          "name": "stderr",
          "text": [
            "100%|██████████| 239/239 [01:06<00:00,  3.57it/s]"
          ]
        },
        {
          "output_type": "stream",
          "name": "stdout",
          "text": [
            "--------------239 patches cropped--------------\n"
          ]
        },
        {
          "output_type": "stream",
          "name": "stderr",
          "text": [
            "\n"
          ]
        }
      ],
      "source": [
        "validation_dataset = AquacultureData(src_dir,\n",
        "                                     usage=\"validation\",\n",
        "                                     dataset_name=dataset_name,\n",
        "                                     apply_normalization=False)"
      ]
    },
    {
      "cell_type": "markdown",
      "metadata": {
        "id": "vM7D9_1_u2Pc"
      },
      "source": [
        "Create a `PyTorch` data loader for the `validation_dataset`."
      ]
    },
    {
      "cell_type": "code",
      "execution_count": 34,
      "metadata": {
        "id": "t-Fs9cbhu2Pc"
      },
      "outputs": [],
      "source": [
        "val_loader = DataLoader(validation_dataset,\n",
        "                        batch_size = 1,\n",
        "                        shuffle = False)"
      ]
    },
    {
      "cell_type": "markdown",
      "metadata": {
        "id": "r5GndESUu2Pc"
      },
      "source": [
        "##### Initialize the model\n"
      ]
    },
    {
      "cell_type": "code",
      "execution_count": 35,
      "metadata": {
        "id": "nW3IPhzEu2Pc"
      },
      "outputs": [],
      "source": [
        "model = Unet(n_classes,\n",
        "             in_channels,\n",
        "             filter_config,\n",
        "             dropout_rate)"
      ]
    },
    {
      "cell_type": "markdown",
      "metadata": {
        "id": "1RBZYD41u2Pd"
      },
      "source": [
        "##### Fit the model"
      ]
    },
    {
      "cell_type": "code",
      "execution_count": 36,
      "metadata": {
        "id": "ZhI7ZSjMu2Pd",
        "colab": {
          "base_uri": "https://localhost:8080/"
        },
        "outputId": "faf84511-94f6-418e-f309-3c16cef0bbe6"
      },
      "outputs": [
        {
          "output_type": "stream",
          "name": "stdout",
          "text": [
            "----------GPU available----------\n",
            "Epoch [1/10]\n",
            "Training loss: 0.4279\n",
            "validation loss: 0.7298486894892848\n",
            "LR: [0.15]\n",
            "Epoch [2/10]\n",
            "Training loss: 0.3870\n",
            "validation loss: 1.780393182981962\n",
            "LR: [0.15]\n",
            "Epoch [3/10]\n",
            "Training loss: 0.3738\n",
            "validation loss: 1166.1547451897147\n",
            "LR: [0.135]\n",
            "Epoch [4/10]\n",
            "Training loss: 0.3813\n",
            "validation loss: 0.3898132669439376\n",
            "LR: [0.135]\n",
            "Epoch [5/10]\n",
            "Training loss: 0.3639\n",
            "validation loss: 124479646944.93724\n",
            "LR: [0.135]\n",
            "Epoch [6/10]\n",
            "Training loss: 0.3568\n",
            "validation loss: 268496.0022554916\n",
            "LR: [0.12150000000000001]\n",
            "Epoch [7/10]\n",
            "Training loss: 0.3558\n",
            "validation loss: 0.5922720155456574\n",
            "LR: [0.12150000000000001]\n",
            "Epoch [8/10]\n",
            "Training loss: 0.3760\n",
            "validation loss: 0.5609669595582715\n",
            "LR: [0.12150000000000001]\n",
            "Epoch [9/10]\n",
            "Training loss: 0.3425\n",
            "validation loss: 0.48914230717774715\n",
            "LR: [0.10935000000000002]\n",
            "Epoch [10/10]\n",
            "Training loss: 0.3659\n",
            "validation loss: 0.5742843311950253\n",
            "LR: [0.10935000000000002]\n",
            "--------------- Training finished in 0:00:12 ---------------\n"
          ]
        }
      ],
      "source": [
        "epochIterater(train_loader,\n",
        "              val_loader,\n",
        "              model,\n",
        "              criterion,\n",
        "              WorkingFolder,\n",
        "              initial_lr,\n",
        "              epochs)"
      ]
    },
    {
      "cell_type": "markdown",
      "metadata": {
        "id": "EThvsaEOu2Pd"
      },
      "source": [
        "Save the trained model parameters."
      ]
    },
    {
      "cell_type": "code",
      "execution_count": 37,
      "metadata": {
        "id": "9hoowpayu2Pd"
      },
      "outputs": [],
      "source": [
        "torch.save(model.state_dict(),\n",
        "           os.path.join(Path(WorkingFolder), \"trained_unet_final_state.pth\"))"
      ]
    },
    {
      "cell_type": "markdown",
      "metadata": {
        "id": "UYO5-XDDu2Pd"
      },
      "source": [
        "##### Evaluate model performance"
      ]
    },
    {
      "cell_type": "code",
      "execution_count": 38,
      "metadata": {
        "id": "h2MgPgNLu2Pd"
      },
      "outputs": [],
      "source": [
        "test = do_accuracy_evaluation(model.cuda(), val_loader, 2)"
      ]
    },
    {
      "cell_type": "markdown",
      "metadata": {
        "id": "buycO80Vo-L0"
      },
      "source": [
        "###  Coding Assignment 2\n",
        "\n",
        "Complete the code in the template below for running predictions on the imagery. See comments in `do_prediction` where code needs to be added to complete the function (10 points)"
      ]
    },
    {
      "cell_type": "code",
      "execution_count": 78,
      "metadata": {
        "id": "o5dyyiGNpEEe"
      },
      "outputs": [],
      "source": [
        "def do_prediction(testData, model, overlap, device, save_dir):\n",
        "    \"\"\"\n",
        "    Use train model to predict on unseen data.\n",
        "    Arguments:\n",
        "            testData (custom iterator) -- Batches of image chips from PyTorch\n",
        "                                          custom dataset.\n",
        "            model (ordered Dict) -- trained model.\n",
        "            overlap (int) -- amount of overlap between prediction chips.\n",
        "            device (str) -- Either \"cpu\" or \"cuda\".\n",
        "            save_dir (str) -- Directory to save the prediction output.\n",
        "    \"\"\"\n",
        "\n",
        "    # Create directories to save the predicted output\n",
        "    save_dir_hard = Path(save_dir) / \"HardScore\"\n",
        "    save_dir_soft = Path(save_dir) / \"SoftScore\"\n",
        "\n",
        "    os.makedirs(save_dir_hard, exist_ok=True)\n",
        "    os.makedirs(save_dir_soft, exist_ok=True)\n",
        "\n",
        "    # Start inference on test data\n",
        "    print(\"--------------------- Start Inference(Test) ---------------------\")\n",
        "    start = datetime.now()\n",
        "\n",
        "    # Get the test data, metadata, and tile information\n",
        "    # add your code here\n",
        "    testData, meta, tile = testData\n",
        "\n",
        "    # Define the output file names and metadata for the hard and soft scores\n",
        "    name_prob = \"prob_c{}_r{}\".format(tile[0], tile[1])\n",
        "    name_crisp = \"crisp_c{}_r{}.rst\".format(tile[0], tile[1])\n",
        "\n",
        "    meta_hard = meta.copy()\n",
        "    meta_hard.update({\n",
        "        \"dtype\": \"uint8\",\n",
        "        \"count\": 1,\n",
        "    })\n",
        "\n",
        "    meta_soft = meta.copy()\n",
        "    meta_soft.update({\n",
        "        \"dtype\": \"float32\",\n",
        "        \"count\": 1,\n",
        "    })\n",
        "\n",
        "    model = model.to(device)\n",
        "\n",
        "    ##### Add your code to put the model in evaluation mode. (1 line)\n",
        "    model.eval()\n",
        "\n",
        "\n",
        "\n",
        "\n",
        "\n",
        "    ##### Create a canvas (call it \"h_canvas\") with the same height, width and\n",
        "    ##### datatype from \"meta_hard\" to hold the score values and initialize it\n",
        "    ##### to zeros. Add your code here. (Expected 1 line)\n",
        "    h_canvas = np.zeros((1, meta_hard[\"height\"], meta_hard[\"width\"]),\n",
        "                        dtype=meta_hard[\"dtype\"])\n",
        "\n",
        "    canvas_score_ls = []\n",
        "\n",
        "\n",
        "    # Loop over batches of image chips and indices.\n",
        "    for img_chips, index_batch in testData:\n",
        "        img = Variable(img_chips, requires_grad=False)\n",
        "        img = img_chips.to(device) # size: B X in_channels X W X H\n",
        "\n",
        "        ##### Forward pass through the model to get the predictions and assign\n",
        "        ####  it to a variable called \"pred\".\n",
        "        ##### Add your code here. (Expected 1 line)\n",
        "        pred = model(img)\n",
        "\n",
        "        ##### Normalize the model output using \"softmax\" And assign it to a\n",
        "        ##### variable called \"pred_prob\".\n",
        "        ##### Add your code here (Expected 1 line)\n",
        "        pred_prob = F.softmax(pred, dim=1)\n",
        "\n",
        "        # Get the dimensions of the prediction\n",
        "        batch, n_class, height, width = pred_prob.size()\n",
        "\n",
        "        # Calculate the score width and score height based on the overlap\n",
        "        # parameter\n",
        "        score_width = (width // 2) - overlap\n",
        "        score_height = (height // 2) - overlap\n",
        "\n",
        "        # Loop over the batch and assign the predicted scores to the canvas\n",
        "        for i in range(batch):\n",
        "\n",
        "            # creating a new tuple index containing the coordinates, which makes\n",
        "            # it easier to index into the \"h_canvas\" and arrays in the\n",
        "            # \"canvas_score_ls\" later on in the code.\n",
        "            index = (index_batch[0][i], index_batch[1][i])\n",
        "\n",
        "            # Get the hard scores by taking the argmax of the prediction\n",
        "            prediction_hard = pred_prob.max(dim=1)[1][\n",
        "                :, overlap:-overlap, overlap:-overlap\n",
        "            ].cpu().numpy()[i, :, :]\n",
        "\n",
        "            # add the batch dimension to the \"prediction_hard\" array and\n",
        "            # convert its data types.\n",
        "            prediction_hard = np.expand_dims(prediction_hard, axis=0)\\\n",
        "            .astype(meta_hard[\"dtype\"])\n",
        "\n",
        "            # The \"prediction_hard\" values are assigned to a slice of\n",
        "            # \"h_canvas\", effectively updating the pixels in the original image\n",
        "            # corresponding to the current image chip in the batch with the\n",
        "            # predicted values for that chip.\n",
        "            ##### Add your code here. (Expected 1 line)\n",
        "            h_canvas[\n",
        "                :, index[0] - score_width : index[0] + score_width,\n",
        "                index[1] - score_height : index[1] + score_height\n",
        "            ] = prediction_hard\n",
        "\n",
        "\n",
        "            for n in range(1, n_class):\n",
        "                # Extract probability map for class n from predicted\n",
        "                # probabilities tensor\n",
        "                prediction_soft = pred_prob[:, n, :, :]\\\n",
        "                    .data[i][overlap:-overlap, overlap:-overlap]\\\n",
        "                    .cpu().numpy() * 100\n",
        "                # Add an extra dimension to the probability map to match the\n",
        "                # expected shape\n",
        "                prediction_soft = np.expand_dims(prediction_soft, axis=0)\\\n",
        "                    .astype(meta_soft[\"dtype\"])\n",
        "\n",
        "                try:\n",
        "                    # Update existing canvas for class n w/new probability map\n",
        "                    canvas_score_ls[n][\n",
        "                        :, index[0] - score_width : index[0] + score_width,\n",
        "                        index[1] - score_height : index[1] + score_height\n",
        "                    ] = prediction_soft\n",
        "                except:\n",
        "                    # Create a new canvas for class n and initialize it with\n",
        "                    # zeros\n",
        "                    canvas_score_single = np.zeros(\n",
        "                        (1, meta_soft['height'], meta_soft['width']),\n",
        "                        dtype=meta_soft['dtype']\n",
        "                    )\n",
        "\n",
        "                    # Update the new canvas with the new probability map slice\n",
        "                    # by slice\n",
        "                    canvas_score_single[\n",
        "                        :, index[0] - score_width: index[0] + score_width,\n",
        "                        index[1] - score_height: index[1] + score_height\n",
        "                    ] = prediction_soft\n",
        "\n",
        "                    # Add the new canvas to the list of canvases for all classes\n",
        "                    canvas_score_ls.append(canvas_score_single)\n",
        "\n",
        "    # write the hard classification results to an output raster.\n",
        "    ##### Use \"save_dir_hard\", \"name_crisp\" and \"meta_hard\".\n",
        "    ##### Add your code here. (Expected 2 line)\n",
        "    with rasterio.open(os.path.join(save_dir_hard, name_crisp)\\\n",
        "                       ,'w', **meta_hard) as rstr:\n",
        "                       rstr.write(h_canvas)\n",
        "\n",
        "\n",
        "    # loop through each class (excluding the background class) and creates a\n",
        "    # new raster file for each class.\n",
        "    ##### Add your code here. (Expected 4 line)\n",
        "    ##### hint: use this code to get a proper name for the prediction output\n",
        "    ##### for each class: name_prob_updated = f\"{name_prob}_Cat_{n}.tif\"\n",
        "\n",
        "    for n in range(1, n_class):\n",
        "        name_prob_updated = f\"{name_prob}_Cat_{n}.tif\"\n",
        "        with rasterio.open(os.path.join(save_dir_soft, name_prob_updated), \\\n",
        "                           'w', **meta_soft) as rstr:\n",
        "                           rstr.write(canvas_score_ls[n])\n",
        "\n",
        "\n",
        "\n",
        "    duration_in_sec = (datetime.now() - start).seconds\n",
        "    duration_format = str(timedelta(seconds=duration_in_sec))\n",
        "    print(\"---------------- Inference finished in {} seconds ----------------\"\\\n",
        "          .format(duration_format))"
      ]
    },
    {
      "cell_type": "markdown",
      "metadata": {
        "id": "cUQvE6Eux5yS"
      },
      "source": [
        "### Coding Assignment 3\n",
        "\n",
        "In this task, you will fine-tuning an already trained model on a new dataset. We have already trained the provided `U-Net` on the bigger size PondDataset for 40 epochs (see example of train-from-scratch pipeline above). You can find the model in the shared gdrive for the course.\n",
        "\n",
        "We also provide you with a dataset to finetune the pre-trained model for a few more epochs (e.g. 25). You need to decide what layers of the model to freeze (see Practical 5 for different approaches). Normally as we have a small dataset to finetune we only update a few layers at the top of decoder. Your dataset is big enough to experiment with different numbers of layers to freeze.\n",
        "\n",
        "Also, as a rule of thumb we use a smaller learning rate during the finetune process. The initial LR for the first training was 0.1. You can choose LR of 0.01 or smaller.\n",
        "\n",
        "To finetune the model:\n",
        "\n",
        "1. First decide which layers to freeze;\n",
        "2. Then finetune the model\n",
        "\n",
        "That will entail freeze the layers as shown in the code below, then\n",
        "\n",
        "After completion, use this finetuned model to perform the prediction.\n",
        "\n",
        "(20 points)"
      ]
    },
    {
      "cell_type": "markdown",
      "metadata": {
        "id": "wSO1JHsJu2Pe"
      },
      "source": [
        "#### Fine-tuning pipeline\n",
        "\n",
        "Run through the training pipeline below, where there is a block that has the step for loading weights and then freezing layers."
      ]
    },
    {
      "cell_type": "markdown",
      "metadata": {
        "id": "SPQ8Z94Xu2Pf"
      },
      "source": [
        "##### Initial parameters\n",
        "\n",
        "Change the directory paths as needed to locate the provided datasets."
      ]
    },
    {
      "cell_type": "code",
      "execution_count": 43,
      "metadata": {
        "id": "k5etJBDkx6vZ"
      },
      "outputs": [],
      "source": [
        "src_dir = \"/content/gdrive/MyDrive/adleo/assignment5/A5_resources\"\n",
        "dataset_name = \"Fine_tune_dataset\"\n",
        "transform = [\"hflip\", \"vflip\", \"rotate\"]\n",
        "\n",
        "n_classes = 2\n",
        "in_channels = 6\n",
        "filter_config = (32, 64, 128, 256, 512, 1024)\n",
        "dropout_rate = 0.15\n",
        "\n",
        "criterion = \"BalancedTverskyFocalCELoss()\"\n",
        "WorkingFolder = \"/content/gdrive/MyDrive/adleo/assignment5\"\n",
        "initial_lr = 0.01\n",
        "epochs = 10"
      ]
    },
    {
      "cell_type": "markdown",
      "metadata": {
        "id": "7LuNtFf7u2Pf"
      },
      "source": [
        "##### Load train data"
      ]
    },
    {
      "cell_type": "code",
      "execution_count": 44,
      "metadata": {
        "id": "KUxy3PsyyEOY",
        "colab": {
          "base_uri": "https://localhost:8080/"
        },
        "outputId": "bcf27696-d8da-4321-e761-c57ab64a5206"
      },
      "outputs": [
        {
          "output_type": "stream",
          "name": "stderr",
          "text": [
            "100%|██████████| 758/758 [01:48<00:00,  6.96it/s]"
          ]
        },
        {
          "output_type": "stream",
          "name": "stdout",
          "text": [
            "--------------758 patches cropped--------------\n"
          ]
        },
        {
          "output_type": "stream",
          "name": "stderr",
          "text": [
            "\n"
          ]
        }
      ],
      "source": [
        "train_dataset = AquacultureData(src_dir,\n",
        "                                usage=\"train\",\n",
        "                                dataset_name=dataset_name,\n",
        "                                apply_normalization=False,\n",
        "                                transform=transform)\n",
        "train_loader = DataLoader(train_dataset,\n",
        "                          batch_size = 16,\n",
        "                          shuffle = True)"
      ]
    },
    {
      "cell_type": "markdown",
      "metadata": {
        "id": "iSGbOIlnu2Pf"
      },
      "source": [
        "##### Load validation data"
      ]
    },
    {
      "cell_type": "code",
      "execution_count": 45,
      "metadata": {
        "id": "hJX30X0SyHKp",
        "colab": {
          "base_uri": "https://localhost:8080/"
        },
        "outputId": "7128aea1-efe2-45c8-f186-4a4fb93702ea"
      },
      "outputs": [
        {
          "output_type": "stream",
          "name": "stderr",
          "text": [
            "100%|██████████| 122/122 [00:56<00:00,  2.14it/s]"
          ]
        },
        {
          "output_type": "stream",
          "name": "stdout",
          "text": [
            "--------------122 patches cropped--------------\n"
          ]
        },
        {
          "output_type": "stream",
          "name": "stderr",
          "text": [
            "\n"
          ]
        }
      ],
      "source": [
        "validation_dataset = AquacultureData(src_dir,\n",
        "                                     usage=\"validation\",\n",
        "                                     dataset_name=dataset_name,\n",
        "                                     apply_normalization=False)\n",
        "val_loader = DataLoader(validation_dataset,\n",
        "                        batch_size = 1,\n",
        "                        shuffle = False)"
      ]
    },
    {
      "cell_type": "markdown",
      "metadata": {
        "id": "PeaCsX8zyHef"
      },
      "source": [
        "##### Initialize model"
      ]
    },
    {
      "cell_type": "code",
      "execution_count": 46,
      "metadata": {
        "id": "c1EGnuBLyUeB"
      },
      "outputs": [],
      "source": [
        "model_Unet1 = Unet(n_classes,\n",
        "             in_channels,\n",
        "             filter_config,\n",
        "             dropout_rate)"
      ]
    },
    {
      "cell_type": "markdown",
      "metadata": {
        "id": "aauSwvS8u2Pg"
      },
      "source": [
        "##### Load the saved model parameters, specify freeze layers\n",
        "\n",
        "That means that you load the weights, you will want to use the code we have previously looked at (Practical 5) that show how to find the different model layers."
      ]
    },
    {
      "cell_type": "code",
      "execution_count": 47,
      "metadata": {
        "id": "LOWGhU9su2Pg",
        "colab": {
          "base_uri": "https://localhost:8080/"
        },
        "outputId": "e1b04863-fa67-4ec0-8b7b-b259aaf42bcc"
      },
      "outputs": [
        {
          "output_type": "stream",
          "name": "stdout",
          "text": [
            "0 encoder_1.block.0.weight\n",
            "1 encoder_1.block.1.weight\n",
            "2 encoder_1.block.1.bias\n",
            "3 encoder_1.block.3.weight\n",
            "4 encoder_1.block.4.weight\n",
            "5 encoder_1.block.4.bias\n",
            "6 encoder_2.block.0.weight\n",
            "7 encoder_2.block.1.weight\n",
            "8 encoder_2.block.1.bias\n",
            "9 encoder_2.block.3.weight\n",
            "10 encoder_2.block.4.weight\n",
            "11 encoder_2.block.4.bias\n",
            "12 encoder_3.block.0.weight\n",
            "13 encoder_3.block.1.weight\n",
            "14 encoder_3.block.1.bias\n",
            "15 encoder_3.block.3.weight\n",
            "16 encoder_3.block.4.weight\n",
            "17 encoder_3.block.4.bias\n",
            "18 encoder_4.block.0.weight\n",
            "19 encoder_4.block.1.weight\n",
            "20 encoder_4.block.1.bias\n",
            "21 encoder_4.block.3.weight\n",
            "22 encoder_4.block.4.weight\n",
            "23 encoder_4.block.4.bias\n",
            "24 encoder_5.block.0.weight\n",
            "25 encoder_5.block.1.weight\n",
            "26 encoder_5.block.1.bias\n",
            "27 encoder_5.block.3.weight\n",
            "28 encoder_5.block.4.weight\n",
            "29 encoder_5.block.4.bias\n",
            "30 encoder_6.block.0.weight\n",
            "31 encoder_6.block.1.weight\n",
            "32 encoder_6.block.1.bias\n",
            "33 encoder_6.block.3.weight\n",
            "34 encoder_6.block.4.weight\n",
            "35 encoder_6.block.4.bias\n",
            "36 decoder_1.block.0.weight\n",
            "37 decoder_1.block.0.bias\n",
            "38 conv1.block.0.weight\n",
            "39 conv1.block.1.weight\n",
            "40 conv1.block.1.bias\n",
            "41 conv1.block.3.weight\n",
            "42 conv1.block.4.weight\n",
            "43 conv1.block.4.bias\n",
            "44 decoder_2.block.0.weight\n",
            "45 decoder_2.block.0.bias\n",
            "46 conv2.block.0.weight\n",
            "47 conv2.block.1.weight\n",
            "48 conv2.block.1.bias\n",
            "49 conv2.block.3.weight\n",
            "50 conv2.block.4.weight\n",
            "51 conv2.block.4.bias\n",
            "52 decoder_3.block.0.weight\n",
            "53 decoder_3.block.0.bias\n",
            "54 conv3.block.0.weight\n",
            "55 conv3.block.1.weight\n",
            "56 conv3.block.1.bias\n",
            "57 conv3.block.3.weight\n",
            "58 conv3.block.4.weight\n",
            "59 conv3.block.4.bias\n",
            "60 decoder_4.block.0.weight\n",
            "61 decoder_4.block.0.bias\n",
            "62 conv4.block.0.weight\n",
            "63 conv4.block.1.weight\n",
            "64 conv4.block.1.bias\n",
            "65 conv4.block.3.weight\n",
            "66 conv4.block.4.weight\n",
            "67 conv4.block.4.bias\n",
            "68 decoder_5.block.0.weight\n",
            "69 decoder_5.block.0.bias\n",
            "70 conv5.block.0.weight\n",
            "71 conv5.block.1.weight\n",
            "72 conv5.block.1.bias\n",
            "73 conv5.block.3.weight\n",
            "74 conv5.block.4.weight\n",
            "75 conv5.block.4.bias\n",
            "76 classifier.weight\n",
            "77 classifier.bias\n"
          ]
        }
      ],
      "source": [
        "# Use this block to add code to help you query the model layers.\n",
        "\n",
        "for i, (name, param) in enumerate(model_Unet1.named_parameters()):\n",
        "    if param.requires_grad:\n",
        "        print(i, name)\n"
      ]
    },
    {
      "cell_type": "markdown",
      "metadata": {
        "id": "6e25_G89u2Pg"
      },
      "source": [
        "Now run the fine-tuning. You will need to add the `epochIterator` to do that, and then save the fine-tuned model"
      ]
    },
    {
      "cell_type": "code",
      "source": [
        "epochIterater(train_loader,\n",
        "              val_loader,\n",
        "              model_Unet1,\n",
        "              criterion,\n",
        "              WorkingFolder,\n",
        "              initial_lr,\n",
        "              epochs)"
      ],
      "metadata": {
        "colab": {
          "base_uri": "https://localhost:8080/"
        },
        "id": "gSKnb4tC8I1V",
        "outputId": "d7546fee-7d57-4b28-f7eb-95a421d32e3c"
      },
      "execution_count": 48,
      "outputs": [
        {
          "output_type": "stream",
          "name": "stdout",
          "text": [
            "----------GPU available----------\n",
            "Epoch [1/10]\n",
            "Training loss: 0.2947\n",
            "validation loss: 0.23713723716677212\n",
            "LR: [0.01]\n",
            "Epoch [2/10]\n",
            "Training loss: 0.2382\n",
            "validation loss: 0.3085601334689093\n",
            "LR: [0.01]\n",
            "Epoch [3/10]\n",
            "Training loss: 0.2390\n",
            "validation loss: 0.5680082437933468\n",
            "LR: [0.009000000000000001]\n",
            "Epoch [4/10]\n",
            "Training loss: 0.2218\n",
            "validation loss: 0.3307481538809714\n",
            "LR: [0.009000000000000001]\n",
            "Epoch [5/10]\n",
            "Training loss: 0.1795\n",
            "validation loss: 0.2161709205171124\n",
            "LR: [0.009000000000000001]\n",
            "Epoch [6/10]\n",
            "Training loss: 0.1880\n",
            "validation loss: 0.27098645062231624\n",
            "LR: [0.008100000000000001]\n",
            "Epoch [7/10]\n",
            "Training loss: 0.1934\n",
            "validation loss: 0.3211568389393267\n",
            "LR: [0.008100000000000001]\n",
            "Epoch [8/10]\n",
            "Training loss: 0.1709\n",
            "validation loss: 0.22257500441103686\n",
            "LR: [0.008100000000000001]\n",
            "Epoch [9/10]\n",
            "Training loss: 0.1691\n",
            "validation loss: 0.6147004903339949\n",
            "LR: [0.007290000000000001]\n",
            "Epoch [10/10]\n",
            "Training loss: 0.1685\n",
            "validation loss: 1.0257235477205182\n",
            "LR: [0.007290000000000001]\n",
            "--------------- Training finished in 0:00:07 ---------------\n"
          ]
        }
      ]
    },
    {
      "cell_type": "code",
      "source": [
        "torch.save(model_Unet1.state_dict(),\n",
        "           os.path.join(WorkingFolder, \"trained_unet_final_state.pth\"))"
      ],
      "metadata": {
        "id": "uBvtsxAP8twJ"
      },
      "execution_count": 49,
      "outputs": []
    },
    {
      "cell_type": "code",
      "source": [
        "# Load trained model parameters\n",
        "params_dir = '/content/gdrive/MyDrive/adleo/assignment5/trained_unet_final_state.pth'\n",
        "freeze_params = list(range(10))\n",
        "model_Unet = load_params(params_dir,\n",
        "                    model_Unet1,\n",
        "                    freeze_params=freeze_params)"
      ],
      "metadata": {
        "id": "-gfHhKAVLxNu"
      },
      "execution_count": 50,
      "outputs": []
    },
    {
      "cell_type": "markdown",
      "metadata": {
        "id": "aPXjB5cazAq2"
      },
      "source": [
        "#### Doing prediction (Inference)\n",
        "\n",
        "This is the final step--making predictions on images with the fine-tuned model.\n",
        "\n",
        "First define the parameters, changes paths as needed."
      ]
    },
    {
      "cell_type": "code",
      "execution_count": 75,
      "metadata": {
        "id": "KkBWYiIfXN-p"
      },
      "outputs": [],
      "source": [
        "src_dir = \"/content/gdrive/MyDrive/adleo/assignment5/A5_resources/prediction_scenes\"\n",
        "csv_name = \"pond_scenes_inference.csv\"\n",
        "patch_size = 256\n",
        "overlap = 28\n",
        "save_dir = \"/content/gdrive/MyDrive/adleo/assignment5/predictions\"\n",
        "device = torch.device(\"cuda:0\" if torch.cuda.is_available() else \"cpu\")"
      ]
    },
    {
      "cell_type": "markdown",
      "metadata": {
        "id": "jVc00otOu2Ph"
      },
      "source": [
        "##### Prediction function"
      ]
    },
    {
      "cell_type": "code",
      "execution_count": 76,
      "metadata": {
        "id": "AiGxCr_UzCYi"
      },
      "outputs": [],
      "source": [
        "def load_data_pred(usage, csv_name, patch_size, overlap, catalog_index):\n",
        "    pred_dataset = AquacultureData(src_dir,\n",
        "                                   usage = usage,\n",
        "                                   apply_normalization=False,\n",
        "                                   csv_name = csv_name,\n",
        "                                   patch_size = patch_size,\n",
        "                                   overlap = overlap,\n",
        "                                   catalog_index=catalog_index)\n",
        "\n",
        "    data_loader = DataLoader(pred_dataset, batch_size=1, shuffle=False)\n",
        "    meta = pred_dataset.meta\n",
        "    tile = pred_dataset.tile\n",
        "\n",
        "    return data_loader, meta, tile"
      ]
    },
    {
      "cell_type": "markdown",
      "metadata": {
        "id": "i2gFFbW_u2Ph"
      },
      "source": [
        "##### Count tile to pass those to `predict`"
      ]
    },
    {
      "cell_type": "code",
      "execution_count": 79,
      "metadata": {
        "id": "2IAcfG34zM0O",
        "colab": {
          "base_uri": "https://localhost:8080/"
        },
        "outputId": "805f317e-75f3-43d5-a714-23c15c3fff61"
      },
      "outputs": [
        {
          "output_type": "stream",
          "name": "stdout",
          "text": [
            "Number of patches: 88\n",
            "Patched from:\n",
            "[[128, 128], [328, 128], [528, 128], [728, 128], [928, 128], [1128, 128], [1328, 128], [1528, 128], [1728, 128], [128, 328], [328, 328], [528, 328], [728, 328], [928, 328], [1128, 328], [1328, 328], [1528, 328], [1728, 328], [128, 528], [328, 528], [528, 528], [728, 528], [928, 528], [1128, 528], [1328, 528], [1528, 528], [1728, 528], [128, 728], [328, 728], [528, 728], [728, 728], [928, 728], [1128, 728], [1328, 728], [1528, 728], [1728, 728], [128, 928], [328, 928], [528, 928], [728, 928], [928, 928], [1128, 928], [1328, 928], [1528, 928], [1728, 928], [128, 1128], [328, 1128], [528, 1128], [728, 1128], [928, 1128], [1128, 1128], [1328, 1128], [1528, 1128], [1728, 1128], [128, 1328], [328, 1328], [528, 1328], [728, 1328], [928, 1328], [1128, 1328], [1328, 1328], [1528, 1328], [1728, 1328], [328, 1528], [528, 1528], [728, 1528], [928, 1528], [1128, 1528], [1328, 1528], [1528, 1528], [1728, 1528], [328, 1728], [528, 1728], [728, 1728], [928, 1728], [1128, 1728], [1328, 1728], [1528, 1728], [1728, 1728], [928, 1928], [1128, 1928], [1328, 1928], [1528, 1928], [1728, 1928], [928, 2128], [1128, 2128], [1328, 2128], [1528, 2128]]\n",
            "--------------88 patches cropped--------------\n",
            "--------------------- Start Inference(Test) ---------------------\n",
            "---------------- Inference finished in 0:00:01 seconds ----------------\n",
            "Number of patches: 356\n",
            "Patched from:\n",
            "[[128, 128], [328, 128], [528, 128], [728, 128], [928, 128], [1128, 128], [1328, 128], [1528, 128], [1728, 128], [1928, 128], [2128, 128], [2328, 128], [2528, 128], [2728, 128], [2928, 128], [3128, 128], [3328, 128], [3528, 128], [3728, 128], [128, 328], [328, 328], [528, 328], [728, 328], [928, 328], [1128, 328], [1328, 328], [1528, 328], [1728, 328], [1928, 328], [2128, 328], [2328, 328], [2528, 328], [2728, 328], [2928, 328], [3128, 328], [3328, 328], [3528, 328], [3728, 328], [128, 528], [328, 528], [528, 528], [728, 528], [928, 528], [1128, 528], [1328, 528], [1528, 528], [1728, 528], [1928, 528], [2128, 528], [2328, 528], [2528, 528], [2728, 528], [2928, 528], [3128, 528], [3328, 528], [3528, 528], [3728, 528], [128, 728], [328, 728], [528, 728], [728, 728], [928, 728], [1128, 728], [1328, 728], [1528, 728], [1728, 728], [1928, 728], [2128, 728], [2328, 728], [2528, 728], [2728, 728], [2928, 728], [3128, 728], [3328, 728], [3528, 728], [3728, 728], [928, 928], [1128, 928], [1328, 928], [1528, 928], [1728, 928], [1928, 928], [2128, 928], [2328, 928], [2528, 928], [2728, 928], [2928, 928], [3128, 928], [3328, 928], [3528, 928], [3728, 928], [128, 1128], [328, 1128], [528, 1128], [728, 1128], [928, 1128], [1128, 1128], [1328, 1128], [1528, 1128], [1728, 1128], [1928, 1128], [2128, 1128], [2328, 1128], [2528, 1128], [2728, 1128], [2928, 1128], [3128, 1128], [3328, 1128], [3528, 1128], [3728, 1128], [128, 1328], [328, 1328], [528, 1328], [728, 1328], [928, 1328], [1128, 1328], [1328, 1328], [1528, 1328], [1728, 1328], [1928, 1328], [2128, 1328], [2328, 1328], [2528, 1328], [2728, 1328], [2928, 1328], [3128, 1328], [3328, 1328], [3528, 1328], [3728, 1328], [128, 1528], [328, 1528], [528, 1528], [728, 1528], [928, 1528], [1128, 1528], [1328, 1528], [1528, 1528], [1728, 1528], [1928, 1528], [2128, 1528], [2328, 1528], [2528, 1528], [2728, 1528], [2928, 1528], [3128, 1528], [3328, 1528], [3528, 1528], [3728, 1528], [128, 1728], [328, 1728], [528, 1728], [728, 1728], [928, 1728], [1128, 1728], [1328, 1728], [1528, 1728], [1728, 1728], [1928, 1728], [2128, 1728], [2328, 1728], [2528, 1728], [2728, 1728], [2928, 1728], [3128, 1728], [3328, 1728], [3528, 1728], [3728, 1728], [128, 1928], [328, 1928], [528, 1928], [728, 1928], [928, 1928], [1128, 1928], [1328, 1928], [1528, 1928], [1728, 1928], [1928, 1928], [2128, 1928], [2328, 1928], [2528, 1928], [2728, 1928], [2928, 1928], [3128, 1928], [3328, 1928], [3528, 1928], [3728, 1928], [128, 2128], [328, 2128], [528, 2128], [728, 2128], [928, 2128], [1128, 2128], [1328, 2128], [1528, 2128], [1728, 2128], [1928, 2128], [2128, 2128], [2328, 2128], [2528, 2128], [2728, 2128], [2928, 2128], [3128, 2128], [3328, 2128], [3528, 2128], [3728, 2128], [128, 2328], [328, 2328], [528, 2328], [728, 2328], [928, 2328], [1128, 2328], [1328, 2328], [1528, 2328], [1728, 2328], [1928, 2328], [2128, 2328], [2328, 2328], [2528, 2328], [2728, 2328], [2928, 2328], [3128, 2328], [3328, 2328], [3528, 2328], [128, 2528], [328, 2528], [528, 2528], [728, 2528], [928, 2528], [1128, 2528], [1328, 2528], [1528, 2528], [1728, 2528], [1928, 2528], [2128, 2528], [2328, 2528], [2528, 2528], [2728, 2528], [2928, 2528], [3128, 2528], [3328, 2528], [3528, 2528], [3728, 2528], [128, 2728], [328, 2728], [528, 2728], [728, 2728], [928, 2728], [1128, 2728], [1328, 2728], [1528, 2728], [1728, 2728], [1928, 2728], [2128, 2728], [2328, 2728], [2528, 2728], [2728, 2728], [2928, 2728], [3128, 2728], [3328, 2728], [3528, 2728], [3728, 2728], [128, 2928], [328, 2928], [528, 2928], [728, 2928], [928, 2928], [1128, 2928], [1328, 2928], [1528, 2928], [1728, 2928], [1928, 2928], [2128, 2928], [2328, 2928], [2528, 2928], [2728, 2928], [2928, 2928], [3128, 2928], [3328, 2928], [3528, 2928], [3728, 2928], [128, 3128], [328, 3128], [528, 3128], [728, 3128], [928, 3128], [1128, 3128], [1328, 3128], [1528, 3128], [1728, 3128], [1928, 3128], [2128, 3128], [2328, 3128], [2528, 3128], [2728, 3128], [2928, 3128], [3128, 3128], [3328, 3128], [3528, 3128], [3728, 3128], [128, 3328], [328, 3328], [528, 3328], [728, 3328], [928, 3328], [1128, 3328], [1328, 3328], [1528, 3328], [1728, 3328], [1928, 3328], [2128, 3328], [2328, 3328], [2528, 3328], [2728, 3328], [2928, 3328], [3128, 3328], [3328, 3328], [3528, 3328], [3728, 3328], [128, 3528], [328, 3528], [528, 3528], [728, 3528], [928, 3528], [1128, 3528], [1328, 3528], [1528, 3528], [1728, 3528], [1928, 3528], [2128, 3528], [2328, 3528], [2528, 3528], [2728, 3528], [2928, 3528], [3128, 3528], [3328, 3528], [3528, 3528], [3728, 3528], [128, 3728], [328, 3728], [528, 3728], [728, 3728], [928, 3728], [1128, 3728], [1328, 3728], [1528, 3728], [1728, 3728], [1928, 3728], [2128, 3728], [2328, 3728], [2528, 3728], [2728, 3728], [2928, 3728], [3128, 3728], [3328, 3728], [3528, 3728], [3728, 3728]]\n",
            "--------------356 patches cropped--------------\n",
            "--------------------- Start Inference(Test) ---------------------\n",
            "---------------- Inference finished in 0:00:03 seconds ----------------\n"
          ]
        }
      ],
      "source": [
        "tile_count = len(pd.read_csv(os.path.join(src_dir, csv_name)))\n",
        "for i in range(tile_count):\n",
        "  pred_data = load_data_pred(\"inference\", csv_name, patch_size, overlap, i)\n",
        "  do_prediction(pred_data, model, overlap, device, save_dir)"
      ]
    },
    {
      "cell_type": "markdown",
      "metadata": {
        "id": "3xyuI3Amu2Ph"
      },
      "source": [
        "## Extra credit:\n",
        "\n",
        "1. Train a version of U-Net with attention added to it (see Practical 5) for 40 epochs on the original training/validation dataset.\n",
        "2. Load the model we originally provided\n",
        "3. Calculate evaluation metrics for both the attention U-Net and the original one.\n",
        "4. For each model, run a prediction on one tile, and plot them both to compare differences.\n",
        "\n",
        "(10 points)"
      ]
    },
    {
      "cell_type": "code",
      "source": [
        "## U-Net (I get idea from Fieldmapper repo)\n",
        "class unet_att(nn.Module):\n",
        "    def __init__(self, n_classes, in_channels, filter_config=None,\n",
        "                 use_skipAtt=False, dropout_rate=0):\n",
        "        super(unet_att, self).__init__()\n",
        "\n",
        "        self.in_channels = in_channels\n",
        "        self.use_skipAtt = use_skipAtt\n",
        "\n",
        "        if not filter_config:\n",
        "            filter_config = (64, 128, 256, 512, 1024, 2048)\n",
        "\n",
        "        assert len(filter_config) == 6\n",
        "\n",
        "        # Contraction Path\n",
        "        # 64x256x256\n",
        "        self.encoder_1 = ConvBlock(self.in_channels, filter_config[0],\n",
        "                                   num_conv_layers=2, drop_rate=dropout_rate)\n",
        "        # 128x128x128\n",
        "        self.encoder_2 = ConvBlock(filter_config[0], filter_config[1],\n",
        "                                   num_conv_layers=2, drop_rate=dropout_rate)\n",
        "        # 256x64x64\n",
        "        self.encoder_3 = ConvBlock(filter_config[1], filter_config[2],\n",
        "                                   num_conv_layers=2, drop_rate=dropout_rate)\n",
        "        # 512x32x32\n",
        "        self.encoder_4 = ConvBlock(filter_config[2], filter_config[3],\n",
        "                                   num_conv_layers=2, drop_rate=dropout_rate)\n",
        "        # 1024x16x16\n",
        "        self.encoder_5 = ConvBlock(filter_config[3], filter_config[4],\n",
        "                                   num_conv_layers=2, drop_rate=dropout_rate)\n",
        "        # 2048x8x8\n",
        "        self.encoder_6 = ConvBlock(filter_config[4], filter_config[5],\n",
        "                                   num_conv_layers=2, drop_rate=dropout_rate)\n",
        "        self.pool = nn.MaxPool2d(kernel_size=2, stride=2)\n",
        "\n",
        "        # Expansion Path\n",
        "         # 1024x16x16\n",
        "        self.decoder_1 = UpconvBlock(filter_config[5], filter_config[4],\n",
        "                                     upmode=\"deconv_2\")\n",
        "        self.conv1 = ConvBlock(filter_config[4] * 2, filter_config[4],\n",
        "                               num_conv_layers=2, drop_rate=dropout_rate)\n",
        "        # 512x32x32\n",
        "        self.decoder_2 = UpconvBlock(filter_config[4], filter_config[3],\n",
        "                                     upmode=\"deconv_2\")\n",
        "        self.conv2 = ConvBlock(filter_config[4], filter_config[3],\n",
        "                               num_conv_layers=2, drop_rate=dropout_rate)\n",
        "        # 256x64x64\n",
        "        self.decoder_3 = UpconvBlock(filter_config[3], filter_config[2],\n",
        "                                     upmode=\"deconv_2\")\n",
        "        self.conv3 = ConvBlock(filter_config[3], filter_config[2],\n",
        "                                num_conv_layers=2, drop_rate=dropout_rate)\n",
        "        # 128x128x128\n",
        "        self.decoder_4 = UpconvBlock(filter_config[2], filter_config[1],\n",
        "                                     upmode=\"deconv_2\")\n",
        "        self.conv4 = ConvBlock(filter_config[2], filter_config[1],\n",
        "                               num_conv_layers=2, drop_rate=dropout_rate)\n",
        "        # 64x256x256\n",
        "        self.decoder_5 = UpconvBlock(filter_config[1], filter_config[0],\n",
        "                                     upmode=\"deconv_2\")\n",
        "        self.conv5 = ConvBlock(filter_config[1], filter_config[0],\n",
        "                               num_conv_layers=2, drop_rate=dropout_rate)\n",
        "\n",
        "        if self.use_skipAtt:\n",
        "            self.Att1 = AdditiveAttentionBlock(\n",
        "                F_g=filter_config[4], F_x=filter_config[4],\n",
        "                F_inter=filter_config[3]\n",
        "            )\n",
        "            self.Att2 = AdditiveAttentionBlock(\n",
        "                F_g=filter_config[3], F_x=filter_config[3],\n",
        "                F_inter=filter_config[2]\n",
        "            )\n",
        "            self.Att3 = AdditiveAttentionBlock(\n",
        "                F_g=filter_config[2], F_x=filter_config[2],\n",
        "                F_inter=filter_config[1]\n",
        "            )\n",
        "            self.Att4 = AdditiveAttentionBlock(\n",
        "                F_g=filter_config[1], F_x=filter_config[1],\n",
        "                F_inter=filter_config[0]\n",
        "            )\n",
        "            self.Att5 = AdditiveAttentionBlock(\n",
        "                F_g=filter_config[0], F_x=filter_config[0],\n",
        "                F_inter=int(filter_config[0] / 2)\n",
        "            )\n",
        "\n",
        "        # classNumx256x256\n",
        "        self.classifier = nn.Conv2d(filter_config[0], n_classes, kernel_size=1,\n",
        "                                    stride=1, padding=0)\n",
        "\n",
        "    def forward(self, inputs):\n",
        "        # set_trace()\n",
        "        e1 = self.encoder_1(inputs)  # batch size x 64 x 256 x 256\n",
        "        p1 = self.pool(e1)  # batch size x 64 x 128 x 128\n",
        "\n",
        "        e2 = self.encoder_2(p1)  # batch size x 128 x 128 x 128\n",
        "        p2 = self.pool(e2)  # batch size x 128 x 64 x 64\n",
        "\n",
        "        e3 = self.encoder_3(p2)  # batch size x 256 x 64 x 64\n",
        "        p3 = self.pool(e3)  # batch size x 256 x 32 x 32\n",
        "\n",
        "        e4 = self.encoder_4(p3)  # batch size x 512 x 32 x 32\n",
        "        p4 = self.pool(e4)  # batch size x 1024 x 16 x 16\n",
        "\n",
        "        e5 = self.encoder_5(p4)  # batch size x 1024 x 16 x 16\n",
        "        p5 = self.pool(e5)  # batch size x 1024 x 8 x 8\n",
        "\n",
        "        e6 = self.encoder_6(p5)  # batch size x 2048 x 8 x 8\n",
        "\n",
        "        d6 = self.decoder_1(e6)  # batch size x 1024 x 16 x 16\n",
        "\n",
        "        if self.use_skipAtt:\n",
        "            x5 = self.Att1(g=d6, x=e5)  # batch size x 1024 x 16 x 16\n",
        "            skip1 = torch.cat((x5, d6), dim=1)  # batch size x 2048 x 16 x 16\n",
        "        else:\n",
        "            skip1 = torch.cat((e5, d6), dim=1)  # batch size x 2048 x 16 x 16\n",
        "\n",
        "        d6_proper = self.conv1(skip1)  # batch size x 1024 x 16 x 16\n",
        "\n",
        "        d5 = self.decoder_2(d6_proper)  # batch size x 512 x 32 x 32\n",
        "\n",
        "        if self.use_skipAtt:\n",
        "            x4 = self.Att2(g=d5, x=e4)  # batch size x 512 x 32 x 32\n",
        "            skip2 = torch.cat((x4, d5), dim=1)  # batch size x 1024 x 32 x 32\n",
        "        else:\n",
        "            skip2 = torch.cat((e4, d5), dim=1)  # batch size x 1024 x 32 x 32\n",
        "\n",
        "        d5_proper = self.conv2(skip2)  # batch size x 512 x 32 x 32\n",
        "\n",
        "        d4 = self.decoder_3(d5_proper)  # batch size x 256 x 64 x 64\n",
        "\n",
        "        if self.use_skipAtt:\n",
        "            x3 = self.Att3(g=d4, x=e3)  # batch size x 256 x 64 x 64\n",
        "            skip3 = torch.cat((x3, d4), dim=1)  # batch size x 512 x 64 x 64\n",
        "        else:\n",
        "            skip3 = torch.cat((e3, d4), dim=1)  # batch size x 512 x 64 x 64\n",
        "\n",
        "        d4_proper = self.conv3(skip3)  # batch size x 256 x 64 x 64\n",
        "\n",
        "        d3 = self.decoder_4(d4_proper)  # batch size x 128 x 128 x 128\n",
        "\n",
        "        if self.use_skipAtt:\n",
        "            x2 = self.Att4(g=d3, x=e2)  # batch size x 128 x 128 x 128\n",
        "            skip4 = torch.cat((x2, d3), dim=1)  # batch size x 256 x 128 x 128\n",
        "        else:\n",
        "            skip4 = torch.cat((e2, d3), dim=1)  # batch size x 256 x 128 x 128\n",
        "\n",
        "        d3_proper = self.conv4(skip4)  # batch size x 128 x 128 x 128\n",
        "\n",
        "        d2 = self.decoder_5(d3_proper)  # batch size x 64 x 256 x 256\n",
        "\n",
        "        if self.use_skipAtt:\n",
        "            x1 = self.Att5(g=d2, x=e1)  # batch size x 64 x 256 x 256\n",
        "            skip5 = torch.cat((x1, d2), dim=1)  # batch size x 128 x 256 x 256\n",
        "        else:\n",
        "            skip5 = torch.cat((e1, d2), dim=1)  # batch size x 128 x 256 x 256\n",
        "\n",
        "        d2_proper = self.conv5(skip5)  # batch size x 64 x 256 x 256\n",
        "\n",
        "        d1 = self.classifier(d2_proper)  # batch size x classNum x 256 x 256\n",
        "\n",
        "        return d1"
      ],
      "metadata": {
        "id": "SR81g8NdMyqy"
      },
      "execution_count": 94,
      "outputs": []
    },
    {
      "cell_type": "code",
      "source": [
        "src_dir = \"/content/gdrive/MyDrive/adleo/assignment5/A5_resources/prediction_scenes\"\n",
        "dataset_name = \"Global\"\n",
        "transform = [\"hflip\", \"vflip\", \"rotate\"]\n",
        "\n",
        "n_classes = 2\n",
        "in_channels = 6\n",
        "filter_config = (32, 64, 128, 256, 512, 1024)\n",
        "dropout_rate = 0.15\n",
        "\n",
        "criterion = \"BalancedTverskyFocalCELoss()\"\n",
        "WorkingFolder = \"/content/gdrive/MyDrive/adleo/assignment5\"\n",
        "initial_lr = 0.01\n",
        "epochs = 10"
      ],
      "metadata": {
        "id": "KI3DjVRxDklH"
      },
      "execution_count": 95,
      "outputs": []
    },
    {
      "cell_type": "code",
      "source": [
        "att_unet = unet_att(\n",
        "    in_channels=in_channels,\n",
        "    n_classes=n_classes)"
      ],
      "metadata": {
        "id": "RYaGAt9oDsHv"
      },
      "execution_count": 96,
      "outputs": []
    },
    {
      "cell_type": "code",
      "source": [
        "epochIterater(train_loader,\n",
        "              val_loader,\n",
        "              att_unet,\n",
        "              criterion,\n",
        "              WorkingFolder,\n",
        "              initial_lr,\n",
        "              epochs)"
      ],
      "metadata": {
        "colab": {
          "base_uri": "https://localhost:8080/"
        },
        "id": "-9urYrYMEhD4",
        "outputId": "40f317c2-c0c6-45a6-d363-b08bbd519644"
      },
      "execution_count": 97,
      "outputs": [
        {
          "output_type": "stream",
          "name": "stdout",
          "text": [
            "----------GPU available----------\n",
            "Epoch [1/10]\n",
            "Training loss: 0.3457\n",
            "validation loss: 0.2778055948800728\n",
            "LR: [0.01]\n",
            "Epoch [2/10]\n",
            "Training loss: 0.2501\n",
            "validation loss: 0.3278500203226433\n",
            "LR: [0.01]\n",
            "Epoch [3/10]\n",
            "Training loss: 0.2436\n",
            "validation loss: 0.2452753409743309\n",
            "LR: [0.009000000000000001]\n",
            "Epoch [4/10]\n",
            "Training loss: 0.1995\n",
            "validation loss: 0.21712571742837547\n",
            "LR: [0.009000000000000001]\n",
            "Epoch [5/10]\n",
            "Training loss: 0.2096\n",
            "validation loss: 0.42413775488489963\n",
            "LR: [0.009000000000000001]\n",
            "Epoch [6/10]\n",
            "Training loss: 0.1860\n",
            "validation loss: 0.2661889433616497\n",
            "LR: [0.008100000000000001]\n",
            "Epoch [7/10]\n",
            "Training loss: 0.2193\n",
            "validation loss: 0.2730573310715253\n",
            "LR: [0.008100000000000001]\n",
            "Epoch [8/10]\n",
            "Training loss: 0.1974\n",
            "validation loss: 0.18768205316584619\n",
            "LR: [0.008100000000000001]\n",
            "Epoch [9/10]\n",
            "Training loss: 0.1666\n",
            "validation loss: 0.47798698688628244\n",
            "LR: [0.007290000000000001]\n",
            "Epoch [10/10]\n",
            "Training loss: 0.1581\n",
            "validation loss: 0.7227127017056356\n",
            "LR: [0.007290000000000001]\n",
            "--------------- Training finished in 0:00:18 ---------------\n"
          ]
        }
      ]
    },
    {
      "cell_type": "code",
      "source": [
        "torch.save(att_unet.state_dict(),\n",
        "           os.path.join(Path(WorkingFolder), \"unet_att_d_final_state_trained.pth\"))"
      ],
      "metadata": {
        "id": "jDmgfPp1EmpC"
      },
      "execution_count": 98,
      "outputs": []
    },
    {
      "cell_type": "code",
      "source": [
        "# Get the named trainable parameters and their indices\n",
        "for i, (name, param) in enumerate(att_unet.named_parameters()):\n",
        "    if param.requires_grad:\n",
        "        print(i, name)"
      ],
      "metadata": {
        "colab": {
          "base_uri": "https://localhost:8080/"
        },
        "id": "OcoFFPmhEzfp",
        "outputId": "cd291433-a468-4d48-e091-b6b21664de6d"
      },
      "execution_count": 99,
      "outputs": [
        {
          "output_type": "stream",
          "name": "stdout",
          "text": [
            "0 encoder_1.block.0.weight\n",
            "1 encoder_1.block.1.weight\n",
            "2 encoder_1.block.1.bias\n",
            "3 encoder_1.block.3.weight\n",
            "4 encoder_1.block.4.weight\n",
            "5 encoder_1.block.4.bias\n",
            "6 encoder_2.block.0.weight\n",
            "7 encoder_2.block.1.weight\n",
            "8 encoder_2.block.1.bias\n",
            "9 encoder_2.block.3.weight\n",
            "10 encoder_2.block.4.weight\n",
            "11 encoder_2.block.4.bias\n",
            "12 encoder_3.block.0.weight\n",
            "13 encoder_3.block.1.weight\n",
            "14 encoder_3.block.1.bias\n",
            "15 encoder_3.block.3.weight\n",
            "16 encoder_3.block.4.weight\n",
            "17 encoder_3.block.4.bias\n",
            "18 encoder_4.block.0.weight\n",
            "19 encoder_4.block.1.weight\n",
            "20 encoder_4.block.1.bias\n",
            "21 encoder_4.block.3.weight\n",
            "22 encoder_4.block.4.weight\n",
            "23 encoder_4.block.4.bias\n",
            "24 encoder_5.block.0.weight\n",
            "25 encoder_5.block.1.weight\n",
            "26 encoder_5.block.1.bias\n",
            "27 encoder_5.block.3.weight\n",
            "28 encoder_5.block.4.weight\n",
            "29 encoder_5.block.4.bias\n",
            "30 encoder_6.block.0.weight\n",
            "31 encoder_6.block.1.weight\n",
            "32 encoder_6.block.1.bias\n",
            "33 encoder_6.block.3.weight\n",
            "34 encoder_6.block.4.weight\n",
            "35 encoder_6.block.4.bias\n",
            "36 decoder_1.block.0.weight\n",
            "37 decoder_1.block.0.bias\n",
            "38 conv1.block.0.weight\n",
            "39 conv1.block.1.weight\n",
            "40 conv1.block.1.bias\n",
            "41 conv1.block.3.weight\n",
            "42 conv1.block.4.weight\n",
            "43 conv1.block.4.bias\n",
            "44 decoder_2.block.0.weight\n",
            "45 decoder_2.block.0.bias\n",
            "46 conv2.block.0.weight\n",
            "47 conv2.block.1.weight\n",
            "48 conv2.block.1.bias\n",
            "49 conv2.block.3.weight\n",
            "50 conv2.block.4.weight\n",
            "51 conv2.block.4.bias\n",
            "52 decoder_3.block.0.weight\n",
            "53 decoder_3.block.0.bias\n",
            "54 conv3.block.0.weight\n",
            "55 conv3.block.1.weight\n",
            "56 conv3.block.1.bias\n",
            "57 conv3.block.3.weight\n",
            "58 conv3.block.4.weight\n",
            "59 conv3.block.4.bias\n",
            "60 decoder_4.block.0.weight\n",
            "61 decoder_4.block.0.bias\n",
            "62 conv4.block.0.weight\n",
            "63 conv4.block.1.weight\n",
            "64 conv4.block.1.bias\n",
            "65 conv4.block.3.weight\n",
            "66 conv4.block.4.weight\n",
            "67 conv4.block.4.bias\n",
            "68 decoder_5.block.0.weight\n",
            "69 decoder_5.block.0.bias\n",
            "70 conv5.block.0.weight\n",
            "71 conv5.block.1.weight\n",
            "72 conv5.block.1.bias\n",
            "73 conv5.block.3.weight\n",
            "74 conv5.block.4.weight\n",
            "75 conv5.block.4.bias\n",
            "76 classifier.weight\n",
            "77 classifier.bias\n"
          ]
        }
      ]
    },
    {
      "cell_type": "code",
      "source": [
        "# Load trained model parameters\n",
        "params_dir = \"/content/gdrive/MyDrive/adleo/assignment5/unet_att_d_final_state_trained.pth\"\n",
        "freeze_params = list(range(10)),\n",
        "att_unet = load_params(params_dir,\n",
        "                    att_unet,\n",
        "                    freeze_params=freeze_params)"
      ],
      "metadata": {
        "id": "SEGziaQvFLFP"
      },
      "execution_count": 100,
      "outputs": []
    },
    {
      "cell_type": "markdown",
      "source": [
        "## Plotting Predicted Map based on Unet Model"
      ],
      "metadata": {
        "id": "9yFMMyCfGHWa"
      }
    },
    {
      "cell_type": "code",
      "source": [
        "# Step 1: Model Initialize\n",
        "Unet_model = Unet(in_channels=in_channels,\n",
        "                  n_classes=n_classes).to(device)\n",
        "\n",
        "# Step2: Selecting Optimization Function\n",
        "optimizer = optim.Adam(Unet_model.parameters(), lr=initial_lr)\n",
        "\n",
        "# Step3: Selecting Loss Function\n",
        "criterion = BalancedTverskyFocalCELoss()\n",
        "\n",
        "# Step4: Model evaluation\n",
        "pixel_acc, mean_acc, mean_iou, fw_iou = do_accuracy_evaluation(Unet_model,\n",
        "                                                               val_loader,\n",
        "                                                               num_classes = 10)\n",
        "print(\"Pixel Accuracy:\", pixel_acc,\"\\n\",\n",
        "      \"Mean Accuracy:\", mean_acc, \"\\n\",\n",
        "      \"Mean IoU:\", mean_iou, \"\\n\",\n",
        "      \"Frequency Weighted IoU:\", fw_iou)\n",
        "\n"
      ],
      "metadata": {
        "colab": {
          "base_uri": "https://localhost:8080/"
        },
        "id": "_ZAvTO4MFb6r",
        "outputId": "d7e7a558-7ab6-46db-8c1f-931a042dc929"
      },
      "execution_count": 121,
      "outputs": [
        {
          "output_type": "stream",
          "name": "stdout",
          "text": [
            "Pixel Accuracy: 0.3289495999695825 \n",
            " Mean Accuracy: 0.5 \n",
            " Mean IoU: 0.16447479998479125 \n",
            " Frequency Weighted IoU: 0.10820783932014835\n"
          ]
        },
        {
          "output_type": "stream",
          "name": "stderr",
          "text": [
            "<ipython-input-22-c6e09f19cada>:11: RuntimeWarning: invalid value encountered in divide\n",
            "  Acc = np.diag(self.confusion_matrix) / self.confusion_matrix.sum(axis=1)\n",
            "<ipython-input-22-c6e09f19cada>:16: RuntimeWarning: invalid value encountered in divide\n",
            "  MIoU = np.diag(self.confusion_matrix) / (\n",
            "<ipython-input-22-c6e09f19cada>:26: RuntimeWarning: invalid value encountered in divide\n",
            "  iu = np.diag(self.confusion_matrix) / (\n"
          ]
        }
      ]
    },
    {
      "cell_type": "code",
      "source": [
        "# Step5: Making prediction\n",
        "tile_count = len(pd.read_csv(os.path.join(src_dir, csv_name)))\n",
        "for i in range(tile_count):\n",
        "  pred_data = load_data_pred(\"inference\", csv_name, patch_size, overlap, i)\n",
        "  do_prediction(pred_data, model, overlap, device, save_dir)\n"
      ],
      "metadata": {
        "colab": {
          "base_uri": "https://localhost:8080/"
        },
        "id": "X7e0zNxIGSHw",
        "outputId": "3e45b9c2-65b2-469c-ba70-8bfd8ff18aaf"
      },
      "execution_count": 124,
      "outputs": [
        {
          "output_type": "stream",
          "name": "stdout",
          "text": [
            "Number of patches: 88\n",
            "Patched from:\n",
            "[[128, 128], [328, 128], [528, 128], [728, 128], [928, 128], [1128, 128], [1328, 128], [1528, 128], [1728, 128], [128, 328], [328, 328], [528, 328], [728, 328], [928, 328], [1128, 328], [1328, 328], [1528, 328], [1728, 328], [128, 528], [328, 528], [528, 528], [728, 528], [928, 528], [1128, 528], [1328, 528], [1528, 528], [1728, 528], [128, 728], [328, 728], [528, 728], [728, 728], [928, 728], [1128, 728], [1328, 728], [1528, 728], [1728, 728], [128, 928], [328, 928], [528, 928], [728, 928], [928, 928], [1128, 928], [1328, 928], [1528, 928], [1728, 928], [128, 1128], [328, 1128], [528, 1128], [728, 1128], [928, 1128], [1128, 1128], [1328, 1128], [1528, 1128], [1728, 1128], [128, 1328], [328, 1328], [528, 1328], [728, 1328], [928, 1328], [1128, 1328], [1328, 1328], [1528, 1328], [1728, 1328], [328, 1528], [528, 1528], [728, 1528], [928, 1528], [1128, 1528], [1328, 1528], [1528, 1528], [1728, 1528], [328, 1728], [528, 1728], [728, 1728], [928, 1728], [1128, 1728], [1328, 1728], [1528, 1728], [1728, 1728], [928, 1928], [1128, 1928], [1328, 1928], [1528, 1928], [1728, 1928], [928, 2128], [1128, 2128], [1328, 2128], [1528, 2128]]\n",
            "--------------88 patches cropped--------------\n",
            "--------------------- Start Inference(Test) ---------------------\n",
            "---------------- Inference finished in 0:00:01 seconds ----------------\n",
            "Number of patches: 356\n",
            "Patched from:\n",
            "[[128, 128], [328, 128], [528, 128], [728, 128], [928, 128], [1128, 128], [1328, 128], [1528, 128], [1728, 128], [1928, 128], [2128, 128], [2328, 128], [2528, 128], [2728, 128], [2928, 128], [3128, 128], [3328, 128], [3528, 128], [3728, 128], [128, 328], [328, 328], [528, 328], [728, 328], [928, 328], [1128, 328], [1328, 328], [1528, 328], [1728, 328], [1928, 328], [2128, 328], [2328, 328], [2528, 328], [2728, 328], [2928, 328], [3128, 328], [3328, 328], [3528, 328], [3728, 328], [128, 528], [328, 528], [528, 528], [728, 528], [928, 528], [1128, 528], [1328, 528], [1528, 528], [1728, 528], [1928, 528], [2128, 528], [2328, 528], [2528, 528], [2728, 528], [2928, 528], [3128, 528], [3328, 528], [3528, 528], [3728, 528], [128, 728], [328, 728], [528, 728], [728, 728], [928, 728], [1128, 728], [1328, 728], [1528, 728], [1728, 728], [1928, 728], [2128, 728], [2328, 728], [2528, 728], [2728, 728], [2928, 728], [3128, 728], [3328, 728], [3528, 728], [3728, 728], [928, 928], [1128, 928], [1328, 928], [1528, 928], [1728, 928], [1928, 928], [2128, 928], [2328, 928], [2528, 928], [2728, 928], [2928, 928], [3128, 928], [3328, 928], [3528, 928], [3728, 928], [128, 1128], [328, 1128], [528, 1128], [728, 1128], [928, 1128], [1128, 1128], [1328, 1128], [1528, 1128], [1728, 1128], [1928, 1128], [2128, 1128], [2328, 1128], [2528, 1128], [2728, 1128], [2928, 1128], [3128, 1128], [3328, 1128], [3528, 1128], [3728, 1128], [128, 1328], [328, 1328], [528, 1328], [728, 1328], [928, 1328], [1128, 1328], [1328, 1328], [1528, 1328], [1728, 1328], [1928, 1328], [2128, 1328], [2328, 1328], [2528, 1328], [2728, 1328], [2928, 1328], [3128, 1328], [3328, 1328], [3528, 1328], [3728, 1328], [128, 1528], [328, 1528], [528, 1528], [728, 1528], [928, 1528], [1128, 1528], [1328, 1528], [1528, 1528], [1728, 1528], [1928, 1528], [2128, 1528], [2328, 1528], [2528, 1528], [2728, 1528], [2928, 1528], [3128, 1528], [3328, 1528], [3528, 1528], [3728, 1528], [128, 1728], [328, 1728], [528, 1728], [728, 1728], [928, 1728], [1128, 1728], [1328, 1728], [1528, 1728], [1728, 1728], [1928, 1728], [2128, 1728], [2328, 1728], [2528, 1728], [2728, 1728], [2928, 1728], [3128, 1728], [3328, 1728], [3528, 1728], [3728, 1728], [128, 1928], [328, 1928], [528, 1928], [728, 1928], [928, 1928], [1128, 1928], [1328, 1928], [1528, 1928], [1728, 1928], [1928, 1928], [2128, 1928], [2328, 1928], [2528, 1928], [2728, 1928], [2928, 1928], [3128, 1928], [3328, 1928], [3528, 1928], [3728, 1928], [128, 2128], [328, 2128], [528, 2128], [728, 2128], [928, 2128], [1128, 2128], [1328, 2128], [1528, 2128], [1728, 2128], [1928, 2128], [2128, 2128], [2328, 2128], [2528, 2128], [2728, 2128], [2928, 2128], [3128, 2128], [3328, 2128], [3528, 2128], [3728, 2128], [128, 2328], [328, 2328], [528, 2328], [728, 2328], [928, 2328], [1128, 2328], [1328, 2328], [1528, 2328], [1728, 2328], [1928, 2328], [2128, 2328], [2328, 2328], [2528, 2328], [2728, 2328], [2928, 2328], [3128, 2328], [3328, 2328], [3528, 2328], [128, 2528], [328, 2528], [528, 2528], [728, 2528], [928, 2528], [1128, 2528], [1328, 2528], [1528, 2528], [1728, 2528], [1928, 2528], [2128, 2528], [2328, 2528], [2528, 2528], [2728, 2528], [2928, 2528], [3128, 2528], [3328, 2528], [3528, 2528], [3728, 2528], [128, 2728], [328, 2728], [528, 2728], [728, 2728], [928, 2728], [1128, 2728], [1328, 2728], [1528, 2728], [1728, 2728], [1928, 2728], [2128, 2728], [2328, 2728], [2528, 2728], [2728, 2728], [2928, 2728], [3128, 2728], [3328, 2728], [3528, 2728], [3728, 2728], [128, 2928], [328, 2928], [528, 2928], [728, 2928], [928, 2928], [1128, 2928], [1328, 2928], [1528, 2928], [1728, 2928], [1928, 2928], [2128, 2928], [2328, 2928], [2528, 2928], [2728, 2928], [2928, 2928], [3128, 2928], [3328, 2928], [3528, 2928], [3728, 2928], [128, 3128], [328, 3128], [528, 3128], [728, 3128], [928, 3128], [1128, 3128], [1328, 3128], [1528, 3128], [1728, 3128], [1928, 3128], [2128, 3128], [2328, 3128], [2528, 3128], [2728, 3128], [2928, 3128], [3128, 3128], [3328, 3128], [3528, 3128], [3728, 3128], [128, 3328], [328, 3328], [528, 3328], [728, 3328], [928, 3328], [1128, 3328], [1328, 3328], [1528, 3328], [1728, 3328], [1928, 3328], [2128, 3328], [2328, 3328], [2528, 3328], [2728, 3328], [2928, 3328], [3128, 3328], [3328, 3328], [3528, 3328], [3728, 3328], [128, 3528], [328, 3528], [528, 3528], [728, 3528], [928, 3528], [1128, 3528], [1328, 3528], [1528, 3528], [1728, 3528], [1928, 3528], [2128, 3528], [2328, 3528], [2528, 3528], [2728, 3528], [2928, 3528], [3128, 3528], [3328, 3528], [3528, 3528], [3728, 3528], [128, 3728], [328, 3728], [528, 3728], [728, 3728], [928, 3728], [1128, 3728], [1328, 3728], [1528, 3728], [1728, 3728], [1928, 3728], [2128, 3728], [2328, 3728], [2528, 3728], [2728, 3728], [2928, 3728], [3128, 3728], [3328, 3728], [3528, 3728], [3728, 3728]]\n",
            "--------------356 patches cropped--------------\n",
            "--------------------- Start Inference(Test) ---------------------\n",
            "---------------- Inference finished in 0:00:03 seconds ----------------\n"
          ]
        }
      ]
    },
    {
      "cell_type": "code",
      "source": [
        "img_src = \"/predictions/SoftScore/prob_c11_r60_Cat_1.tif\"\n",
        "WorkingFolder = WorkingFolder\n",
        "rast_img_file = WorkingFolder + img_src\n",
        "rast_img_file\n",
        "\n"
      ],
      "metadata": {
        "colab": {
          "base_uri": "https://localhost:8080/",
          "height": 35
        },
        "id": "ZTuVP6p5PN4O",
        "outputId": "2fcf1c44-03d0-44b6-a72f-64299acc6525"
      },
      "execution_count": 146,
      "outputs": [
        {
          "output_type": "execute_result",
          "data": {
            "text/plain": [
              "'/content/gdrive/MyDrive/adleo/assignment5/predictions/SoftScore/prob_c11_r60_Cat_1.tif'"
            ],
            "application/vnd.google.colaboratory.intrinsic+json": {
              "type": "string"
            }
          },
          "metadata": {},
          "execution_count": 146
        }
      ]
    },
    {
      "cell_type": "code",
      "source": [
        "# Step6: Ploting the predicted image\n",
        "\n",
        "  # Define the image location\n",
        "img_src = \"/predictions/SoftScore/prob_c11_r60_Cat_1.tif\"\n",
        "WorkingFolder = WorkingFolder\n",
        "rast_img_file = (WorkingFolder + img_src)\n",
        "  # Load the image\n",
        "with rasterio.open(rast_img_file) as src:\n",
        "  pred_img1 = src.read(1)\n",
        "\n",
        "  plt.imshow(pred_img1, cmap=\"tab10\")\n",
        "  plt.title(\"Predicted by Unet\")\n",
        "  plt.colorbar()\n",
        "  plt.show()\n",
        "\n"
      ],
      "metadata": {
        "colab": {
          "base_uri": "https://localhost:8080/",
          "height": 419
        },
        "id": "7yF1YtXJMjMN",
        "outputId": "f4a0a506-95e6-49c8-9973-f8f0b35c3823"
      },
      "execution_count": 170,
      "outputs": [
        {
          "output_type": "display_data",
          "data": {
            "text/plain": [
              "<Figure size 640x480 with 2 Axes>"
            ],
            "image/png": "[encoded data removed]"
          },
          "metadata": {}
        }
      ]
    },
    {
      "cell_type": "markdown",
      "source": [
        "## Plotting Predicted Map based on Unet_Attention Model\n"
      ],
      "metadata": {
        "id": "aHhwlAkYQdr9"
      }
    },
    {
      "cell_type": "code",
      "source": [
        "# Step 1: Model Initialize\n",
        "Unet_model = unet_att(in_channels=in_channels,\n",
        "                  n_classes=n_classes).to(device)\n",
        "\n",
        "# Step2: Selecting Optimization Function\n",
        "optimizer = optim.Adam(Unet_model.parameters(), lr=initial_lr)\n",
        "\n",
        "# Step3: Selecting Loss Function\n",
        "criterion = BalancedTverskyFocalCELoss()\n",
        "\n",
        "# Step4: Model evaluation\n",
        "pixel_acc, mean_acc, mean_iou, fw_iou = do_accuracy_evaluation(Unet_model,\n",
        "                                                               val_loader,\n",
        "                                                               num_classes = 10)\n",
        "print(\"Pixel Accuracy:\", pixel_acc,\"\\n\",\n",
        "      \"Mean Accuracy:\", mean_acc, \"\\n\",\n",
        "      \"Mean IoU:\", mean_iou, \"\\n\",\n",
        "      \"Frequency Weighted IoU:\", fw_iou)"
      ],
      "metadata": {
        "colab": {
          "base_uri": "https://localhost:8080/"
        },
        "id": "pvOvKDfiMiPV",
        "outputId": "d91c0f5f-12fc-409a-eb1a-64d4329c803a"
      },
      "execution_count": 154,
      "outputs": [
        {
          "output_type": "stream",
          "name": "stdout",
          "text": [
            "Pixel Accuracy: 0.3289495999695825 \n",
            " Mean Accuracy: 0.5 \n",
            " Mean IoU: 0.16447479998479125 \n",
            " Frequency Weighted IoU: 0.10820783932014835\n"
          ]
        },
        {
          "output_type": "stream",
          "name": "stderr",
          "text": [
            "<ipython-input-22-c6e09f19cada>:11: RuntimeWarning: invalid value encountered in divide\n",
            "  Acc = np.diag(self.confusion_matrix) / self.confusion_matrix.sum(axis=1)\n",
            "<ipython-input-22-c6e09f19cada>:16: RuntimeWarning: invalid value encountered in divide\n",
            "  MIoU = np.diag(self.confusion_matrix) / (\n",
            "<ipython-input-22-c6e09f19cada>:26: RuntimeWarning: invalid value encountered in divide\n",
            "  iu = np.diag(self.confusion_matrix) / (\n"
          ]
        }
      ]
    },
    {
      "cell_type": "code",
      "source": [
        "# Step5: Making prediction\n",
        "tile_count = len(pd.read_csv(os.path.join(src_dir, csv_name)))\n",
        "for i in range(tile_count):\n",
        "  pred_data = load_data_pred(\"inference\", csv_name, patch_size, overlap, i)\n",
        "  do_prediction(pred_data, model, overlap, device, save_dir)\n"
      ],
      "metadata": {
        "colab": {
          "base_uri": "https://localhost:8080/"
        },
        "id": "xEoO9iHfGdxv",
        "outputId": "3deced88-9f84-4bca-8f01-a468e12df4c3"
      },
      "execution_count": 155,
      "outputs": [
        {
          "output_type": "stream",
          "name": "stdout",
          "text": [
            "Number of patches: 88\n",
            "Patched from:\n",
            "[[128, 128], [328, 128], [528, 128], [728, 128], [928, 128], [1128, 128], [1328, 128], [1528, 128], [1728, 128], [128, 328], [328, 328], [528, 328], [728, 328], [928, 328], [1128, 328], [1328, 328], [1528, 328], [1728, 328], [128, 528], [328, 528], [528, 528], [728, 528], [928, 528], [1128, 528], [1328, 528], [1528, 528], [1728, 528], [128, 728], [328, 728], [528, 728], [728, 728], [928, 728], [1128, 728], [1328, 728], [1528, 728], [1728, 728], [128, 928], [328, 928], [528, 928], [728, 928], [928, 928], [1128, 928], [1328, 928], [1528, 928], [1728, 928], [128, 1128], [328, 1128], [528, 1128], [728, 1128], [928, 1128], [1128, 1128], [1328, 1128], [1528, 1128], [1728, 1128], [128, 1328], [328, 1328], [528, 1328], [728, 1328], [928, 1328], [1128, 1328], [1328, 1328], [1528, 1328], [1728, 1328], [328, 1528], [528, 1528], [728, 1528], [928, 1528], [1128, 1528], [1328, 1528], [1528, 1528], [1728, 1528], [328, 1728], [528, 1728], [728, 1728], [928, 1728], [1128, 1728], [1328, 1728], [1528, 1728], [1728, 1728], [928, 1928], [1128, 1928], [1328, 1928], [1528, 1928], [1728, 1928], [928, 2128], [1128, 2128], [1328, 2128], [1528, 2128]]\n",
            "--------------88 patches cropped--------------\n",
            "--------------------- Start Inference(Test) ---------------------\n",
            "---------------- Inference finished in 0:00:01 seconds ----------------\n",
            "Number of patches: 356\n",
            "Patched from:\n",
            "[[128, 128], [328, 128], [528, 128], [728, 128], [928, 128], [1128, 128], [1328, 128], [1528, 128], [1728, 128], [1928, 128], [2128, 128], [2328, 128], [2528, 128], [2728, 128], [2928, 128], [3128, 128], [3328, 128], [3528, 128], [3728, 128], [128, 328], [328, 328], [528, 328], [728, 328], [928, 328], [1128, 328], [1328, 328], [1528, 328], [1728, 328], [1928, 328], [2128, 328], [2328, 328], [2528, 328], [2728, 328], [2928, 328], [3128, 328], [3328, 328], [3528, 328], [3728, 328], [128, 528], [328, 528], [528, 528], [728, 528], [928, 528], [1128, 528], [1328, 528], [1528, 528], [1728, 528], [1928, 528], [2128, 528], [2328, 528], [2528, 528], [2728, 528], [2928, 528], [3128, 528], [3328, 528], [3528, 528], [3728, 528], [128, 728], [328, 728], [528, 728], [728, 728], [928, 728], [1128, 728], [1328, 728], [1528, 728], [1728, 728], [1928, 728], [2128, 728], [2328, 728], [2528, 728], [2728, 728], [2928, 728], [3128, 728], [3328, 728], [3528, 728], [3728, 728], [928, 928], [1128, 928], [1328, 928], [1528, 928], [1728, 928], [1928, 928], [2128, 928], [2328, 928], [2528, 928], [2728, 928], [2928, 928], [3128, 928], [3328, 928], [3528, 928], [3728, 928], [128, 1128], [328, 1128], [528, 1128], [728, 1128], [928, 1128], [1128, 1128], [1328, 1128], [1528, 1128], [1728, 1128], [1928, 1128], [2128, 1128], [2328, 1128], [2528, 1128], [2728, 1128], [2928, 1128], [3128, 1128], [3328, 1128], [3528, 1128], [3728, 1128], [128, 1328], [328, 1328], [528, 1328], [728, 1328], [928, 1328], [1128, 1328], [1328, 1328], [1528, 1328], [1728, 1328], [1928, 1328], [2128, 1328], [2328, 1328], [2528, 1328], [2728, 1328], [2928, 1328], [3128, 1328], [3328, 1328], [3528, 1328], [3728, 1328], [128, 1528], [328, 1528], [528, 1528], [728, 1528], [928, 1528], [1128, 1528], [1328, 1528], [1528, 1528], [1728, 1528], [1928, 1528], [2128, 1528], [2328, 1528], [2528, 1528], [2728, 1528], [2928, 1528], [3128, 1528], [3328, 1528], [3528, 1528], [3728, 1528], [128, 1728], [328, 1728], [528, 1728], [728, 1728], [928, 1728], [1128, 1728], [1328, 1728], [1528, 1728], [1728, 1728], [1928, 1728], [2128, 1728], [2328, 1728], [2528, 1728], [2728, 1728], [2928, 1728], [3128, 1728], [3328, 1728], [3528, 1728], [3728, 1728], [128, 1928], [328, 1928], [528, 1928], [728, 1928], [928, 1928], [1128, 1928], [1328, 1928], [1528, 1928], [1728, 1928], [1928, 1928], [2128, 1928], [2328, 1928], [2528, 1928], [2728, 1928], [2928, 1928], [3128, 1928], [3328, 1928], [3528, 1928], [3728, 1928], [128, 2128], [328, 2128], [528, 2128], [728, 2128], [928, 2128], [1128, 2128], [1328, 2128], [1528, 2128], [1728, 2128], [1928, 2128], [2128, 2128], [2328, 2128], [2528, 2128], [2728, 2128], [2928, 2128], [3128, 2128], [3328, 2128], [3528, 2128], [3728, 2128], [128, 2328], [328, 2328], [528, 2328], [728, 2328], [928, 2328], [1128, 2328], [1328, 2328], [1528, 2328], [1728, 2328], [1928, 2328], [2128, 2328], [2328, 2328], [2528, 2328], [2728, 2328], [2928, 2328], [3128, 2328], [3328, 2328], [3528, 2328], [128, 2528], [328, 2528], [528, 2528], [728, 2528], [928, 2528], [1128, 2528], [1328, 2528], [1528, 2528], [1728, 2528], [1928, 2528], [2128, 2528], [2328, 2528], [2528, 2528], [2728, 2528], [2928, 2528], [3128, 2528], [3328, 2528], [3528, 2528], [3728, 2528], [128, 2728], [328, 2728], [528, 2728], [728, 2728], [928, 2728], [1128, 2728], [1328, 2728], [1528, 2728], [1728, 2728], [1928, 2728], [2128, 2728], [2328, 2728], [2528, 2728], [2728, 2728], [2928, 2728], [3128, 2728], [3328, 2728], [3528, 2728], [3728, 2728], [128, 2928], [328, 2928], [528, 2928], [728, 2928], [928, 2928], [1128, 2928], [1328, 2928], [1528, 2928], [1728, 2928], [1928, 2928], [2128, 2928], [2328, 2928], [2528, 2928], [2728, 2928], [2928, 2928], [3128, 2928], [3328, 2928], [3528, 2928], [3728, 2928], [128, 3128], [328, 3128], [528, 3128], [728, 3128], [928, 3128], [1128, 3128], [1328, 3128], [1528, 3128], [1728, 3128], [1928, 3128], [2128, 3128], [2328, 3128], [2528, 3128], [2728, 3128], [2928, 3128], [3128, 3128], [3328, 3128], [3528, 3128], [3728, 3128], [128, 3328], [328, 3328], [528, 3328], [728, 3328], [928, 3328], [1128, 3328], [1328, 3328], [1528, 3328], [1728, 3328], [1928, 3328], [2128, 3328], [2328, 3328], [2528, 3328], [2728, 3328], [2928, 3328], [3128, 3328], [3328, 3328], [3528, 3328], [3728, 3328], [128, 3528], [328, 3528], [528, 3528], [728, 3528], [928, 3528], [1128, 3528], [1328, 3528], [1528, 3528], [1728, 3528], [1928, 3528], [2128, 3528], [2328, 3528], [2528, 3528], [2728, 3528], [2928, 3528], [3128, 3528], [3328, 3528], [3528, 3528], [3728, 3528], [128, 3728], [328, 3728], [528, 3728], [728, 3728], [928, 3728], [1128, 3728], [1328, 3728], [1528, 3728], [1728, 3728], [1928, 3728], [2128, 3728], [2328, 3728], [2528, 3728], [2728, 3728], [2928, 3728], [3128, 3728], [3328, 3728], [3528, 3728], [3728, 3728]]\n",
            "--------------356 patches cropped--------------\n",
            "--------------------- Start Inference(Test) ---------------------\n",
            "---------------- Inference finished in 0:00:03 seconds ----------------\n"
          ]
        }
      ]
    },
    {
      "cell_type": "code",
      "source": [
        "# Step6: Ploting the predicted image\n",
        "\n",
        "  # Define the image location\n",
        "img_src = \"/predictions/SoftScore/prob_c11_r60_Cat_1.tif\"\n",
        "WorkingFolder = WorkingFolder\n",
        "rast_img_file = (WorkingFolder + img_src)\n",
        "  # Load the image\n",
        "with rasterio.open(rast_img_file) as src:\n",
        "  pred_img2 = src.read(1)\n",
        "\n",
        "  plt.imshow(pred_img2, cmap=\"tab10\")\n",
        "  plt.title(\"Predicted by Unet with Attention\")\n",
        "  plt.colorbar()\n",
        "  plt.show()\n"
      ],
      "metadata": {
        "colab": {
          "base_uri": "https://localhost:8080/",
          "height": 419
        },
        "id": "35cvNwHSGesy",
        "outputId": "6901f677-e3fa-4655-b530-cd21e37248c3"
      },
      "execution_count": 169,
      "outputs": [
        {
          "output_type": "display_data",
          "data": {
            "text/plain": [
              "<Figure size 640x480 with 2 Axes>"
            ],
            "image/png": "[encoded data removed]"
          },
          "metadata": {}
        }
      ]
    },
    {
      "cell_type": "code",
      "source": [
        "plt.figure(figsize=(20, 10))\n",
        "# Create a subplot layout with two rows and one column\n",
        "ax1 = plt.subplot(1, 2, 1)\n",
        "ax2 = plt.subplot(1, 2, 2)\n",
        "\n",
        "# Plot the first image in the first subplot\n",
        "ax1.imshow(pred_img1, cmap = \"tab10\")\n",
        "ax1.set_title(\"Predicted by Unet\")\n",
        "\n",
        "# Plot the second image in the second subplot\n",
        "ax2.imshow(pred_img2,  cmap = \"tab10\")\n",
        "ax2.set_title(\"Predicted by Unet with Attention\")\n",
        "\n",
        "# Adjust spacing between subplots\n",
        "plt.tight_layout()\n",
        "\n",
        "# Show the plot\n",
        "plt.show()"
      ],
      "metadata": {
        "id": "MDd0-eibTp5p",
        "outputId": "a28cec95-8475-4b09-9f28-9e17e374c690",
        "colab": {
          "base_uri": "https://localhost:8080/",
          "height": 475
        }
      },
      "execution_count": 182,
      "outputs": [
        {
          "output_type": "display_data",
          "data": {
            "text/plain": [
              "<Figure size 2000x1000 with 2 Axes>"
            ],
            "image/png": "[encoded data removed]"
          },
          "metadata": {}
        }
      ]
    }
  ],
  "metadata": {
    "colab": {
      "provenance": [],
      "gpuType": "V100",
      "machine_shape": "hm",
      "include_colab_link": true
    },
    "kernelspec": {
      "display_name": "Python 3",
      "name": "python3"
    },
    "language_info": {
      "name": "python"
    },
    "accelerator": "GPU"
  },
  "nbformat": 4,
  "nbformat_minor": 0
}